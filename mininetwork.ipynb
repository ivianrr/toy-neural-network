{
 "cells": [
  {
   "cell_type": "markdown",
   "metadata": {},
   "source": [
    "https://www.samsonzhang.com/2020/11/24/understanding-the-math-behind-neural-networks-by-building-one-from-scratch-no-tf-keras-just-numpy"
   ]
  },
  {
   "cell_type": "code",
   "execution_count": 1,
   "metadata": {},
   "outputs": [],
   "source": [
    "import numpy as np\n",
    "import struct\n",
    "import matplotlib.pyplot as plt\n",
    "\n",
    "def load_data():\n",
    "    with open('samples/t10k-images.idx3-ubyte','rb') as f:\n",
    "        magic, size = struct.unpack(\">II\", f.read(8))\n",
    "        nrows, ncols = struct.unpack(\">II\", f.read(8))\n",
    "        data = np.fromfile(f, dtype=np.dtype(np.uint8).newbyteorder('>'))\n",
    "        data = data.reshape((size, -1))\n",
    "        data=data/255\n",
    "    with open('samples/t10k-labels.idx1-ubyte','rb') as f:\n",
    "        magic, size = struct.unpack(\">II\", f.read(8))\n",
    "        labels = np.fromfile(f, dtype=np.dtype(np.uint8).newbyteorder('>'))\n",
    "        labels = labels.reshape((size,)) # (Optional)\n",
    "    return labels, data, nrows, ncols\n"
   ]
  },
  {
   "cell_type": "markdown",
   "metadata": {},
   "source": [
    "In most contexts, including for machine learning, the convention is to stack these vectors as rows of the matrix, giving the matrix dimensions of $m : \\text{rows} \\times n : \\text{columns}$, where $m$ is the number of training examples and $n$ is the number of features, in this case 784. To make our math easier, we're going to transpose this matrix, giving it dimensions $n \\times m$ instead, with each column corresponding to a training example and each row a training feature."
   ]
  },
  {
   "cell_type": "code",
   "execution_count": 2,
   "metadata": {},
   "outputs": [
    {
     "name": "stdout",
     "output_type": "stream",
     "text": [
      "(10000,)\n",
      "(10000, 784)\n",
      "(10000,)\n",
      "(784, 10000)\n"
     ]
    }
   ],
   "source": [
    "labels, data, nrows, ncols=load_data()\n",
    "n_samples=10000\n",
    "# m:rows:examples, n:columns:features\n",
    "print(labels.shape)\n",
    "print(data.shape)\n",
    "\n",
    "# We transpose it to make math easier\n",
    "data=data.T[:,:n_samples]\n",
    "labels=labels[:n_samples]\n",
    "print(labels.shape)\n",
    "print(data.shape)"
   ]
  },
  {
   "cell_type": "code",
   "execution_count": 3,
   "metadata": {},
   "outputs": [
    {
     "data": {
      "image/png": "[encoded data removed]",
      "text/plain": [
       "<Figure size 432x288 with 1 Axes>"
      ]
     },
     "metadata": {
      "needs_background": "light"
     },
     "output_type": "display_data"
    }
   ],
   "source": [
    "# Preview of first data point\n",
    "plt.imshow(data[:,0].reshape(nrows,ncols), cmap='gray')\n",
    "plt.show()"
   ]
  },
  {
   "cell_type": "markdown",
   "metadata": {},
   "source": [
    "### Representing weights and biases\n",
    "\n",
    "Let's look at our neural network now. Between every two layers is a set of connections between every node in the previous layer and every node in the following one. That is, there is a weight $w_{i,j}$ for every $i$ in the number of nodes in the previous layer and every $j$ in the number of nodes in the following one.\n",
    "\n",
    "It's natural, then, to represent our weights as a matrix of dimensions $n^{[l]}\\times n^{[l-1]}$, where $n^{[l-1]}$ is the number of nodes in the previous layer and $n^{[l]}$ is the number of nodes in the following layer. Let's call this matrix $W^{[l]}$, corresponding to layer $l$ of our network. $W^{[1]}$, for example, will be a $10\\times784$ matrix, taking us from the 784 nodes of the input layer to the 10 nodes of the first hidden layer. $W^{[2]}$ will have dimensions $10\\times10$.\n",
    "\n",
    "Biases are simply constant terms added to each node of the following layer, so we can represent it as a matrix with dimensions $n^{[l]}\\times 1$. Let's call these matrices $b^{[l]}$, so that $b^{[1]}$ and $b^{[2]}$ both have dimensions $10\\times1$.\n",
    "\n"
   ]
  },
  {
   "cell_type": "code",
   "execution_count": 4,
   "metadata": {},
   "outputs": [],
   "source": [
    "def init_params():\n",
    "    W1 = np.random.rand(10, 784) - 0.5\n",
    "    b1 = np.random.rand(10, 1) - 0.5\n",
    "    W2 = np.random.rand(10, 10) - 0.5\n",
    "    b2 = np.random.rand(10, 1) - 0.5\n",
    "    return W1, b1, W2, b2\n",
    "\n",
    "W1, b1, W2, b2 =init_params()"
   ]
  },
  {
   "cell_type": "markdown",
   "metadata": {},
   "source": [
    "### Forward propagation\n",
    "With these representations in mind, we can now write the equations for forward propagation.\n",
    "\n",
    "First, we'll compute the unactivated values of the nodes in the first hidden layer by applying $W^{[1]}$ and $b^{[1]}$ to our input layer. We'll call the output of this operation $Z^{[1]}$:\n",
    "\n",
    "$Z^{[1]} = W^{[1]}X+b^{[1]}$\n",
    "\n",
    "Remember that $X$ has dimensions $784\\times m$, and $W^{[1]} : 10\\times784$. $W^{[1]}X$ is the dot product between the two, yielding a new matrix of dimensions $10\\times m$. This may seem a little strange at first, but think of it this way: each column of this matrix corresponds to the unactivated values for the nodes in the first hidden layer when carried out for one training example, so the entire matrix represents carrying out the first step of forward propagation for all training examples at the same time. This is much more efficient than a for loop, and is what was referred to earlier as a \"vectorized implementation.\"\n",
    "\n",
    "Our bias term $b^{[1]}$has dimensions $10\\times1$, but we want the same column of biases to be applied to all $m$ columns of training examples, so $b^{[1]}$is effectively broadcast into a matrix of dimensions $10\\times m$ when calculating $Z^{[1]}$, matching the dimensions of $W^{[1]}X$.\n",
    "\n",
    "We need to do one more calculation before moving on to the next layer, though, and that's applying a non-linear activation to $Z^{[1]}$. What does this mean, and why do we have to do it?\n",
    "\n",
    "Imagine that we didn't do anything to $Z^{[1]}$ now, and multiplied it by $W^{[2]}$ and added $b^{[2]}$ to get the value for the next layer. $Z^{[1]}$ is a linear combination of the input features, and the second layer would be a linear combination of $Z^{[1]}$, making it still a linear combination of the input features. That means that our hidden layer is essentially useless, and we're just building a linear regression model.\n",
    "\n",
    "To prevent this reduction and actually add complexity with our layers, we'll run $Z^{[1]}$ through a non-linear activation function before passing it off to the next layer. In this case, we'll be using a function called a rectified linear unit, or ReLU:\n",
    "\n",
    "\n",
    "\n",
    "ReLU is a really simple function: it's linear if the input value is above 0, and outputs 0 otherwise. Just this much, though, is enough to ensure that our model doesn't collapse to a linear one.\n",
    "\n",
    "From $Z^{[1]}$, we'll calculate a value $A^{[1]}$ for the values of the nodes in the hidden layer of our neural network after applying our activation function to it:\n",
    "\n",
    "$A^{[1]} = \\text{ReLU}(Z^{[1]})$\n",
    "\n",
    "More generally, you might see this written as $A^{[l]} = g(Z^{[l]})$, with $g$ referring to an arbitrary activation function that may be something other than ReLU.\n",
    "\n",
    "Once we have $A^{[1]}$, we can proceed to calculating the values for our second layer, which is also our output layer. First, we calculate $Z^{[2]}$:\n",
    "\n",
    "$Z^{[2]} = W^{[2]}A^{[1]}+b^{[2]}$\n",
    "\n",
    "Then, we'll apply an activation function to $Z^{[2]}$ to get our final output.\n",
    "\n",
    "If this second layer were just another hidden layer, with more hidden layers or an output layer after it, we would apply ReLU again. But since it's the output layer, we'll apply a special activation function called softmax:\n",
    "\n",
    "\n",
    "\n",
    "Diagram by Bartosz Szabłowski on Towards Data Science\n",
    "\n",
    "Softmax takes a column of data at a time, taking each element in the column and outputting the exponential of that element divided by the sum of the exponentials of each of the elements in the input column. The end result is a column of probabilities between 0 and 1.\n",
    "\n",
    "The value of using softmax for our output layer is that we can read the output as probabilities for certain predictions. In the diagram above, for example, we might read the output as a prediction that the second class has a 90% probability of being the correct label, the third a 5% probability, the fourth a 1% probability, and so on.\n",
    "\n",
    "Let's find our $A^{[2]}$:\n",
    "\n",
    "$A^{[2]} = \\text{softmax}(Z^{[2]})$\n",
    "\n",
    "Softmax runs element-wise, so the dimensions of $Z^{[2]}$ are preserved at $10\\times m$. We can read this output matrix as follows: value $A^{[2]}_{i, j}$ is the probability that example $j$ is an image of the digit $i$.\n",
    "\n",
    "With that, we've run through the entire neural network, going from our input $X$ containing all of our training examples to an output matrix $A^{[2]}$ containing prediction probabilities for each example."
   ]
  },
  {
   "cell_type": "code",
   "execution_count": 5,
   "metadata": {},
   "outputs": [],
   "source": [
    "def ReLU(Z):\n",
    "    return np.maximum(Z,0)\n",
    "\n",
    "def ReLU_dev(Z):\n",
    "    return 1*(Z>0)\n",
    "\n",
    "def softmax(Z):\n",
    "    A = np.exp(Z) / sum(np.exp(Z))\n",
    "    return A\n",
    "\n",
    "def forward_prop(W1,b1,W2,b2,X):\n",
    "    Z1=W1.dot(X)+b1\n",
    "    A1=ReLU(Z1)\n",
    "    Z2=W2.dot(A1)+b2\n",
    "    A2=softmax(Z2)\n",
    "    return Z1,A1,Z2,A2\n",
    "\n",
    "def get_predictions(A2):\n",
    "    return np.argmax(A2,axis=0)"
   ]
  },
  {
   "cell_type": "code",
   "execution_count": 6,
   "metadata": {},
   "outputs": [
    {
     "data": {
      "text/plain": [
       "(10, 10000)"
      ]
     },
     "execution_count": 6,
     "metadata": {},
     "output_type": "execute_result"
    }
   ],
   "source": [
    "Z1,A1,Z2,A2=forward_prop(W1,b1,W2,b2,data)\n",
    "A2.shape"
   ]
  },
  {
   "cell_type": "code",
   "execution_count": 7,
   "metadata": {},
   "outputs": [
    {
     "name": "stdout",
     "output_type": "stream",
     "text": [
      "(10, 10000)\n",
      "7 [0. 0. 0. 0. 0. 0. 0. 1. 0. 0.]\n"
     ]
    }
   ],
   "source": [
    "def one_hot(y):\n",
    "    yy=np.zeros((y.max()+1,y.size))\n",
    "    yy[y,np.arange(y.size)]=1\n",
    "    return yy\n",
    "one_hot_y=one_hot(labels)\n",
    "print(one_hot_y.shape)\n",
    "print(labels[0],one_hot_y[:,0])"
   ]
  },
  {
   "cell_type": "code",
   "execution_count": 8,
   "metadata": {},
   "outputs": [
    {
     "name": "stdout",
     "output_type": "stream",
     "text": [
      "(10000,)\n",
      "[2.11145374 4.84605066 2.09981066 ... 2.66710906 1.417756   3.12106278]\n"
     ]
    }
   ],
   "source": [
    "def cross_ent(y,y_hat): # true(onehotencoded), predicted\n",
    "    return -np.log(y_hat.T[y.astype(bool).T])\n",
    "\n",
    "ce=cross_ent(one_hot_y,A2)\n",
    "\n",
    "print(ce.shape)\n",
    "print(ce)"
   ]
  },
  {
   "cell_type": "markdown",
   "metadata": {},
   "source": [
    "### Backward propagation\n",
    "Now, we'll go the opposite way and calculate how to nudge our parameters to carry out gradient descent.\n",
    "\n",
    "Mathematically, what we're actually computing is the derivative of the loss function with respect to each weight and bias parameter. For a softmax classifier, we'll use a cross-entropy loss function:\n",
    "\n",
    "$J(\\hat{y}, y) = -\\sum_{i=0}^{c} y_i \\log(\\hat{y}_i)$\n",
    "\n",
    "Here, $\\hat{y}$ is our prediction vector. It might look like this:\n",
    "\n",
    "$\\begin{bmatrix} 0.01 \\ 0.02 \\ 0.05 \\ 0.02 \\ 0.80 \\ 0.01 \\ 0.01 \\ 0.00 \\ 0.01 \\ 0.07 \\ \\end{bmatrix}$\n",
    "\n",
    "$y$ is the one-hot encoding of the correct label for the training example. If the label for a training example is 4, for example, the one-hot encoding of $y$ would look like this:\n",
    "\n",
    "$\\begin{bmatrix} 0 \\ 0 \\ 0 \\ 0 \\ 1 \\ 0 \\ 0 \\ 0 \\ 0 \\ 0 \\ \\end{bmatrix}$\n",
    "\n",
    "Notice that in our sum $\\sum_{i=0}^{c} y_i \\log(\\hat{y}_i)$, $y_i = 0$ for all $i$ except the correct label. The loss for a given example, then, is just the log of the probability given for the correct prediction. In our example above, $J(\\hat{y}, y) = -\\log(y_4) = -\\log(0.80) \\approx 0.097$. Notice that, the closer the prediction probability is to 1, the closer the loss is to 0. As the probability approaches 0, the loss approaches $+\\infty$. By minimizing the cost function, we improve the accuracy of our model. We do so by substracting the derivative of the loss function with respect to each parameter from that parameter over many rounds of graident descent:\n",
    "\n",
    "$W^{[1]} := W^{[1]} - \\alpha \\frac{\\delta J}{\\delta W^{[1]}} \\ b^{[1]} := b^{[1]} - \\alpha \\frac{\\delta J}{\\delta b^{[1]}} \\ W^{[2]} := W^{[2]} - \\alpha \\frac{\\delta J}{\\delta W^{[2]}} \\ b^{[2]} := b^{[2]} - \\alpha \\frac{\\delta J}{\\delta b^{[2]}} \\ $\n",
    "\n",
    "Our objective in backprop is to find $\\frac{\\delta J}{\\delta W^{[1]}},\\frac{\\delta J}{\\delta b^{[1]}},\\frac{\\delta J}{\\delta W^{[2]}},$ and $\\frac{\\delta J}{\\delta b^{[2]}}$. For concision, we'll write these values as $dW^{[1]}, db^{[1]}, dW^{[2]},$ and $db^{[2]}$. We'll find these values by stepping backwards through our network, starting by calculating $\\frac{\\delta J}{\\delta A^{[2]}}$, or $dA^{[2]}$. Turns out that this derivative is simply:\n",
    "\n",
    "$dA^{[2]} = Y - A^{[2]}$\n",
    "\n",
    "If you know calculus, you can take the derivative of the loss function and confirm this for yourself. (Hint: $\\hat{y} = A^{[2]}$)\n",
    "\n",
    "From $dA^{[2]}$, we can calculate $dW^{[2]}$ and $db^{[1]}$:\n",
    "\n",
    "$dW^{[2]} = \\frac{1}{m} dZ^{[2]} A^{[1]T} \\ dB^{[2]} = \\frac{1}{m} \\Sigma {dZ^{[2]}}$\n",
    "\n",
    "Then, to calculate $dW^{[1]}$ and $db^{[1]}$, we'll first find $dZ^{[1]}$:\n",
    "\n",
    "$dZ^{[1]} = W^{[2]T} dZ^{[2]} .* g^{[1]\\prime} (Z^{[1]})$\n",
    "\n",
    "I won't explain all the details of the math, but you can get some intuitive hints at what's going on here by just looking at the variables. We're applying $W^{[2]T}$ to $dZ^{[2]}$, akin to applying the weights between layers 1 and 2 in reverse. Then, we perform an element-wise multiplication with the derivative of the activation function, akin to \"undoing\" it to get the correct error values.\n",
    "\n",
    "Since our activation function is ReLU, our derivative is actually pretty simple. Let's revisit our graph:\n",
    "\n",
    "\n",
    "\n",
    "When the input value is greater than 0, the activation function is linear with a derivative of 1. When the input value is less than 0, the activation function is horizontal with a derivative of 0. Thus, $g^{[1]\\prime}(Z^{[1]})$ is just a matrix of 1s and 0s based on values of $Z^{[1]}$.\n",
    "\n",
    "From here, we do the same calculations as earlier to find $dW^{[1]}$ and $db^{[1]}$, using $X$ in place of $A^{[1]}$:\n",
    "\n",
    "$dW^{[1]} = \\frac{1}{m} dZ^{[1]} X^T \\ dB^{[1]} = \\frac{1}{m} \\Sigma {dZ^{[1]}}$\n",
    "\n",
    "Now we've found all the derivatives we need, and all that's left is to update our parameters:\n",
    "\n",
    "$W^{[2]} := W^{[2]} - \\alpha dW^{[2]} \\ b^{[2]} := b^{[2]} - \\alpha db^{[2]} \\ W^{[1]} := W^{[1]} - \\alpha dW^{[1]} \\ b^{[1]} := b^{[1]} - \\alpha db^{[1]}$\n",
    "\n",
    "Here, $\\alpha$is our learning rate, a \"hyperparameter\" that we set to whatever we want. $\\alpha$ is distinguished from other parameters because, just like the number of layers in the network or the number of units in each layer, it's a value that we choose for our model rather than one that gradient descent optimizes.\n",
    "\n",
    "With that, we've gone over all the math that we need to carry out gradient descent and train our neural network. To recap: first, we carry out forward propagation, getting a prediction from an input image:\n",
    "\n",
    "$Z^{[1]} = W^{[1]} X + b^{[1]}A^{[1]} = g_{\\text{ReLU}}(Z^{[1]}))\\Z^{[2]} = W^{[2]} A^{[1]} + b^{[2]}A^{[2]} = g_{\\text{softmax}}(Z^{[2]})$\n",
    "\n",
    "Then, we carry out backprop to compute loss function derivatives:\n",
    "\n",
    "$dZ^{[2]} = A^{[2]} - Y dW^{[2]} = \\frac{1}{m} dZ^{[2]} A^{[1]T}dB^{[2]} = \\frac{1}{m} \\Sigma {dZ^{[2]}}dZ^{[1]} = W^{[2]T} dZ^{[2]} .* g^{[1]\\prime} (z^{[1]})dW^{[1]} = \\frac{1}{m} dZ^{[1]} A^{[0]T}dB^{[1]} = \\frac{1}{m} \\Sigma {dZ^{[1]}}$\n",
    "\n",
    "Finally, we update our parameters accordingly:\n",
    "\n",
    "$W^{[2]} := W^{[2]} - \\alpha dW^{[2]} \\ b^{[2]} := b^{[2]} - \\alpha db^{[2]} \\ W^{[1]} := W^{[1]} - \\alpha dW^{[1]} \\ b^{[1]} := b^{[1]} - \\alpha db^{[1]}$\n",
    "\n",
    "We'll do this process over and over again — the exact number of times, an iteration count that we again set ourselves — until we are satisfied with the performance of our model."
   ]
  },
  {
   "cell_type": "markdown",
   "metadata": {},
   "source": [
    "https://stats.stackexchange.com/questions/235528/backpropagation-with-softmax-cross-entropy\n",
    "![](d1.png)\n",
    "![](d2.png)"
   ]
  },
  {
   "cell_type": "code",
   "execution_count": 52,
   "metadata": {},
   "outputs": [
    {
     "name": "stdout",
     "output_type": "stream",
     "text": [
      "(10, 784)\n",
      "(10, 1)\n",
      "(10, 10)\n",
      "(10, 1)\n"
     ]
    }
   ],
   "source": [
    "# forward_prop(W1,b1,W2,b2,X):\n",
    "# return Z1,A1,Z2,A2\n",
    "def backward_prop(Z1, A1, Z2, A2, W1, W2, X, Y):\n",
    "    N=labels.size\n",
    "    one_hot_y=one_hot(Y)\n",
    "    dZ2=A2-one_hot_y\n",
    "    db2=np.sum(dZ2,axis=1,keepdims=True)/N\n",
    "    dW2=dZ2.dot(A1.T)/N\n",
    "    dZ1=W2.T.dot(dZ2)*ReLU_dev(Z1)\n",
    "    db1=np.sum(dZ1,axis=1,keepdims=True)/N\n",
    "    dW1=dZ1.dot(X.T)/N\n",
    "    return dW1,db1,dW2,db2\n",
    "\n",
    "for i in backward_prop(Z1, A1, Z2, A2, W1, W2, data, labels):\n",
    "    print(i.shape) "
   ]
  },
  {
   "cell_type": "code",
   "execution_count": 40,
   "metadata": {},
   "outputs": [],
   "source": [
    "dW1,db1,dW2,db2=backward_prop(Z1, A1, Z2, A2, W1, W2, data, labels)"
   ]
  },
  {
   "cell_type": "code",
   "execution_count": 58,
   "metadata": {},
   "outputs": [],
   "source": [
    "def update_params(W1,b1, W2,b2,dW1,db1,dW2,db2,alpha):\n",
    "    W1-=dW1*alpha\n",
    "    b1-=db1*alpha\n",
    "    W2-=dW2*alpha\n",
    "    b1-=db2*alpha\n",
    "    return W1, b1, W2, b2"
   ]
  },
  {
   "cell_type": "code",
   "execution_count": 66,
   "metadata": {},
   "outputs": [],
   "source": [
    "def get_accuracy(predictions,Y):\n",
    "    return np.sum(predictions==Y)/Y.size"
   ]
  },
  {
   "cell_type": "code",
   "execution_count": 68,
   "metadata": {},
   "outputs": [
    {
     "name": "stdout",
     "output_type": "stream",
     "text": [
      "0.1227\n"
     ]
    },
    {
     "data": {
      "text/plain": [
       "array([[5, 0, 8, ..., 9, 8, 3],\n",
       "       [7, 2, 1, ..., 4, 5, 6]], dtype=int64)"
      ]
     },
     "execution_count": 68,
     "metadata": {},
     "output_type": "execute_result"
    }
   ],
   "source": [
    "predictions=get_predictions(A2)\n",
    "acc=get_accuracy(predictions,labels)\n",
    "print(acc)\n",
    "np.stack((predictions,labels))"
   ]
  },
  {
   "cell_type": "code",
   "execution_count": 88,
   "metadata": {},
   "outputs": [],
   "source": [
    "def gradient_descent(X,Y,alpha,iterations):\n",
    "    W1, b1, W2, b2 =init_params()\n",
    "    debug=[]\n",
    "    for i in range(iterations):\n",
    "        Z1,A1,Z2,A2 = forward_prop(W1,b1,W2,b2,X)\n",
    "        dW1,db1,dW2,db2 = backward_prop(Z1, A1, Z2, A2, W1, W2, X, Y)\n",
    "        W1, b1, W2, b2 = update_params(W1,b1, W2,b2,dW1,db1,dW2,db2,alpha)\n",
    "    \n",
    "        if i%10==0 or i==iterations-1:\n",
    "            predictions=get_predictions(A2)\n",
    "            acc=get_accuracy(predictions,labels)\n",
    "            debug.append((i,acc))\n",
    "            print(f\"Iteration: {i}\\t\\tAccuracy: {acc}\")\n",
    "\n",
    "    return W1,b1,W2,b2,debug"
   ]
  },
  {
   "cell_type": "code",
   "execution_count": 89,
   "metadata": {},
   "outputs": [
    {
     "name": "stdout",
     "output_type": "stream",
     "text": [
      "Iteration: 0\t\tAccuracy: 0.1119\n",
      "Iteration: 10\t\tAccuracy: 0.1939\n",
      "Iteration: 20\t\tAccuracy: 0.3088\n",
      "Iteration: 30\t\tAccuracy: 0.4046\n",
      "Iteration: 40\t\tAccuracy: 0.4824\n",
      "Iteration: 50\t\tAccuracy: 0.5426\n",
      "Iteration: 60\t\tAccuracy: 0.5871\n",
      "Iteration: 70\t\tAccuracy: 0.6227\n",
      "Iteration: 80\t\tAccuracy: 0.6496\n",
      "Iteration: 90\t\tAccuracy: 0.6722\n",
      "Iteration: 100\t\tAccuracy: 0.6913\n",
      "Iteration: 110\t\tAccuracy: 0.709\n",
      "Iteration: 120\t\tAccuracy: 0.7238\n",
      "Iteration: 130\t\tAccuracy: 0.7351\n",
      "Iteration: 140\t\tAccuracy: 0.7456\n",
      "Iteration: 150\t\tAccuracy: 0.7527\n",
      "Iteration: 160\t\tAccuracy: 0.7616\n",
      "Iteration: 170\t\tAccuracy: 0.7712\n",
      "Iteration: 180\t\tAccuracy: 0.7763\n",
      "Iteration: 190\t\tAccuracy: 0.7829\n",
      "Iteration: 200\t\tAccuracy: 0.7875\n",
      "Iteration: 210\t\tAccuracy: 0.7928\n",
      "Iteration: 220\t\tAccuracy: 0.7972\n",
      "Iteration: 230\t\tAccuracy: 0.8019\n",
      "Iteration: 240\t\tAccuracy: 0.8052\n",
      "Iteration: 250\t\tAccuracy: 0.8084\n",
      "Iteration: 260\t\tAccuracy: 0.8115\n",
      "Iteration: 270\t\tAccuracy: 0.8141\n",
      "Iteration: 280\t\tAccuracy: 0.8169\n",
      "Iteration: 290\t\tAccuracy: 0.8202\n",
      "Iteration: 300\t\tAccuracy: 0.8231\n",
      "Iteration: 310\t\tAccuracy: 0.8254\n",
      "Iteration: 320\t\tAccuracy: 0.8285\n",
      "Iteration: 330\t\tAccuracy: 0.8311\n",
      "Iteration: 340\t\tAccuracy: 0.8342\n",
      "Iteration: 350\t\tAccuracy: 0.837\n",
      "Iteration: 360\t\tAccuracy: 0.8397\n",
      "Iteration: 370\t\tAccuracy: 0.841\n",
      "Iteration: 380\t\tAccuracy: 0.8434\n",
      "Iteration: 390\t\tAccuracy: 0.845\n",
      "Iteration: 400\t\tAccuracy: 0.8459\n",
      "Iteration: 410\t\tAccuracy: 0.8478\n",
      "Iteration: 420\t\tAccuracy: 0.8501\n",
      "Iteration: 430\t\tAccuracy: 0.8516\n",
      "Iteration: 440\t\tAccuracy: 0.8532\n",
      "Iteration: 450\t\tAccuracy: 0.8546\n",
      "Iteration: 460\t\tAccuracy: 0.8566\n",
      "Iteration: 470\t\tAccuracy: 0.8586\n",
      "Iteration: 480\t\tAccuracy: 0.8599\n",
      "Iteration: 490\t\tAccuracy: 0.861\n",
      "Iteration: 500\t\tAccuracy: 0.8623\n",
      "Iteration: 510\t\tAccuracy: 0.8645\n",
      "Iteration: 520\t\tAccuracy: 0.8661\n",
      "Iteration: 530\t\tAccuracy: 0.8671\n",
      "Iteration: 540\t\tAccuracy: 0.8683\n",
      "Iteration: 550\t\tAccuracy: 0.8692\n",
      "Iteration: 560\t\tAccuracy: 0.8698\n",
      "Iteration: 570\t\tAccuracy: 0.8712\n",
      "Iteration: 580\t\tAccuracy: 0.8725\n",
      "Iteration: 590\t\tAccuracy: 0.8738\n",
      "Iteration: 600\t\tAccuracy: 0.8747\n",
      "Iteration: 610\t\tAccuracy: 0.8754\n",
      "Iteration: 620\t\tAccuracy: 0.8765\n",
      "Iteration: 630\t\tAccuracy: 0.8775\n",
      "Iteration: 640\t\tAccuracy: 0.878\n",
      "Iteration: 650\t\tAccuracy: 0.8788\n",
      "Iteration: 660\t\tAccuracy: 0.8791\n",
      "Iteration: 670\t\tAccuracy: 0.8799\n",
      "Iteration: 680\t\tAccuracy: 0.881\n",
      "Iteration: 690\t\tAccuracy: 0.8824\n",
      "Iteration: 700\t\tAccuracy: 0.883\n",
      "Iteration: 710\t\tAccuracy: 0.8839\n",
      "Iteration: 720\t\tAccuracy: 0.8849\n",
      "Iteration: 730\t\tAccuracy: 0.886\n",
      "Iteration: 740\t\tAccuracy: 0.8864\n",
      "Iteration: 750\t\tAccuracy: 0.8868\n",
      "Iteration: 760\t\tAccuracy: 0.888\n",
      "Iteration: 770\t\tAccuracy: 0.8885\n",
      "Iteration: 780\t\tAccuracy: 0.889\n",
      "Iteration: 790\t\tAccuracy: 0.8897\n",
      "Iteration: 800\t\tAccuracy: 0.8904\n",
      "Iteration: 810\t\tAccuracy: 0.8911\n",
      "Iteration: 820\t\tAccuracy: 0.8915\n",
      "Iteration: 830\t\tAccuracy: 0.8926\n",
      "Iteration: 840\t\tAccuracy: 0.8929\n",
      "Iteration: 850\t\tAccuracy: 0.8936\n",
      "Iteration: 860\t\tAccuracy: 0.8943\n",
      "Iteration: 870\t\tAccuracy: 0.8946\n",
      "Iteration: 880\t\tAccuracy: 0.8951\n",
      "Iteration: 890\t\tAccuracy: 0.8959\n",
      "Iteration: 900\t\tAccuracy: 0.8961\n",
      "Iteration: 910\t\tAccuracy: 0.8964\n",
      "Iteration: 920\t\tAccuracy: 0.8976\n",
      "Iteration: 930\t\tAccuracy: 0.8984\n",
      "Iteration: 940\t\tAccuracy: 0.899\n",
      "Iteration: 950\t\tAccuracy: 0.8992\n",
      "Iteration: 960\t\tAccuracy: 0.8997\n",
      "Iteration: 970\t\tAccuracy: 0.9001\n",
      "Iteration: 980\t\tAccuracy: 0.9007\n",
      "Iteration: 990\t\tAccuracy: 0.9009\n",
      "Iteration: 999\t\tAccuracy: 0.9013\n"
     ]
    }
   ],
   "source": [
    "W1,b1,W2,b2,debug=gradient_descent(data,labels,0.1,1000)"
   ]
  },
  {
   "cell_type": "code",
   "execution_count": 90,
   "metadata": {},
   "outputs": [
    {
     "data": {
      "text/plain": [
       "Text(0, 0.5, 'Accuracy')"
      ]
     },
     "execution_count": 90,
     "metadata": {},
     "output_type": "execute_result"
    },
    {
     "data": {
      "image/png": "[encoded data removed]",
      "text/plain": [
       "<Figure size 432x288 with 1 Axes>"
      ]
     },
     "metadata": {
      "needs_background": "light"
     },
     "output_type": "display_data"
    }
   ],
   "source": [
    "x,y=zip(*debug)\n",
    "plt.plot(x,y)\n",
    "plt.xlabel(\"Iteration\")\n",
    "plt.ylabel(\"Accuracy\")"
   ]
  },
  {
   "cell_type": "markdown",
   "metadata": {},
   "source": [
    "# Pruebas varias de todo tipo"
   ]
  },
  {
   "cell_type": "code",
   "execution_count": 22,
   "metadata": {},
   "outputs": [
    {
     "name": "stdout",
     "output_type": "stream",
     "text": [
      "[0 1 2 3]\n",
      "[0 2 4 6]\n"
     ]
    }
   ],
   "source": [
    "a=np.arange(0,4)\n",
    "b=np.arange(4)*2\n",
    "print(a)\n",
    "print(b)"
   ]
  },
  {
   "cell_type": "code",
   "execution_count": 11,
   "metadata": {},
   "outputs": [
    {
     "data": {
      "text/plain": [
       "array([ 0,  2,  8, 18])"
      ]
     },
     "execution_count": 11,
     "metadata": {},
     "output_type": "execute_result"
    }
   ],
   "source": [
    "a*b.T"
   ]
  },
  {
   "cell_type": "code",
   "execution_count": 12,
   "metadata": {},
   "outputs": [
    {
     "data": {
      "text/plain": [
       "array([[ 0,  0,  0,  0],\n",
       "       [ 0,  2,  4,  6],\n",
       "       [ 0,  4,  8, 12],\n",
       "       [ 0,  6, 12, 18]])"
      ]
     },
     "execution_count": 12,
     "metadata": {},
     "output_type": "execute_result"
    }
   ],
   "source": [
    "np.atleast_2d(a).T.dot(np.atleast_2d(b))"
   ]
  },
  {
   "cell_type": "code",
   "execution_count": 13,
   "metadata": {},
   "outputs": [
    {
     "data": {
      "text/plain": [
       "array([[ 0,  0,  0,  0],\n",
       "       [ 0,  2,  4,  6],\n",
       "       [ 0,  4,  8, 12],\n",
       "       [ 0,  6, 12, 18]])"
      ]
     },
     "execution_count": 13,
     "metadata": {},
     "output_type": "execute_result"
    }
   ],
   "source": [
    "a*np.atleast_2d(b).T"
   ]
  },
  {
   "cell_type": "code",
   "execution_count": 14,
   "metadata": {},
   "outputs": [
    {
     "data": {
      "text/plain": [
       "(784, 10000)"
      ]
     },
     "execution_count": 14,
     "metadata": {},
     "output_type": "execute_result"
    }
   ],
   "source": [
    "data.shape"
   ]
  },
  {
   "cell_type": "code",
   "execution_count": 15,
   "metadata": {},
   "outputs": [
    {
     "data": {
      "text/plain": [
       "(4, 2)"
      ]
     },
     "execution_count": 15,
     "metadata": {},
     "output_type": "execute_result"
    }
   ],
   "source": [
    "x=data[:4,0:2]\n",
    "x=np.arange(8).reshape((4,2))\n",
    "x.shape"
   ]
  },
  {
   "cell_type": "code",
   "execution_count": 16,
   "metadata": {},
   "outputs": [
    {
     "data": {
      "text/plain": [
       "array([[0, 1],\n",
       "       [2, 3],\n",
       "       [4, 5],\n",
       "       [6, 7]])"
      ]
     },
     "execution_count": 16,
     "metadata": {},
     "output_type": "execute_result"
    }
   ],
   "source": [
    "x"
   ]
  },
  {
   "cell_type": "code",
   "execution_count": 17,
   "metadata": {},
   "outputs": [
    {
     "data": {
      "text/plain": [
       "(10, 2)"
      ]
     },
     "execution_count": 17,
     "metadata": {},
     "output_type": "execute_result"
    }
   ],
   "source": [
    "dz1=one_hot_y[:,0:2]\n",
    "dz1.shape"
   ]
  },
  {
   "cell_type": "code",
   "execution_count": 18,
   "metadata": {},
   "outputs": [
    {
     "data": {
      "text/plain": [
       "array([[0., 0.],\n",
       "       [0., 0.],\n",
       "       [0., 1.],\n",
       "       [0., 0.],\n",
       "       [0., 0.],\n",
       "       [0., 0.],\n",
       "       [0., 0.],\n",
       "       [1., 0.],\n",
       "       [0., 0.],\n",
       "       [0., 0.]])"
      ]
     },
     "execution_count": 18,
     "metadata": {},
     "output_type": "execute_result"
    }
   ],
   "source": [
    "dz1"
   ]
  },
  {
   "cell_type": "code",
   "execution_count": 19,
   "metadata": {},
   "outputs": [
    {
     "data": {
      "text/plain": [
       "(10, 4)"
      ]
     },
     "execution_count": 19,
     "metadata": {},
     "output_type": "execute_result"
    }
   ],
   "source": [
    "dwq=dz1.dot(x.T)\n",
    "dwq.shape"
   ]
  },
  {
   "cell_type": "code",
   "execution_count": 20,
   "metadata": {},
   "outputs": [
    {
     "data": {
      "text/plain": [
       "array([[0., 0., 0., 0.],\n",
       "       [0., 0., 0., 0.],\n",
       "       [1., 3., 5., 7.],\n",
       "       [0., 0., 0., 0.],\n",
       "       [0., 0., 0., 0.],\n",
       "       [0., 0., 0., 0.],\n",
       "       [0., 0., 0., 0.],\n",
       "       [0., 2., 4., 6.],\n",
       "       [0., 0., 0., 0.],\n",
       "       [0., 0., 0., 0.]])"
      ]
     },
     "execution_count": 20,
     "metadata": {},
     "output_type": "execute_result"
    }
   ],
   "source": [
    "dwq"
   ]
  },
  {
   "cell_type": "code",
   "execution_count": 21,
   "metadata": {},
   "outputs": [
    {
     "data": {
      "text/plain": [
       "array([[1, 1, 1],\n",
       "       [1, 1, 0],\n",
       "       [0, 0, 0]])"
      ]
     },
     "execution_count": 21,
     "metadata": {},
     "output_type": "execute_result"
    }
   ],
   "source": [
    "m=np.arange(9).reshape((3,3))\n",
    "1*(m<5)"
   ]
  },
  {
   "cell_type": "code",
   "execution_count": null,
   "metadata": {},
   "outputs": [],
   "source": []
  }
 ],
 "metadata": {
  "kernelspec": {
   "display_name": "Python 3.9.12 ('calculoastronomico')",
   "language": "python",
   "name": "python3"
  },
  "language_info": {
   "codemirror_mode": {
    "name": "ipython",
    "version": 3
   },
   "file_extension": ".py",
   "mimetype": "text/x-python",
   "name": "python",
   "nbconvert_exporter": "python",
   "pygments_lexer": "ipython3",
   "version": "3.9.12"
  },
  "orig_nbformat": 4,
  "vscode": {
   "interpreter": {
    "hash": "45191bebbaaca2a45e1ef8d4f69ed6ce1b861e31669d6b1375d42c01e883be29"
   }
  }
 },
 "nbformat": 4,
 "nbformat_minor": 2
}
