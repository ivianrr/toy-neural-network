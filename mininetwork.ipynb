{
 "cells": [
  {
   "cell_type": "markdown",
   "metadata": {},
   "source": [
    "https://www.samsonzhang.com/2020/11/24/understanding-the-math-behind-neural-networks-by-building-one-from-scratch-no-tf-keras-just-numpy"
   ]
  },
  {
   "cell_type": "code",
   "execution_count": 223,
   "metadata": {},
   "outputs": [],
   "source": [
    "import numpy as np\n",
    "import struct\n",
    "import matplotlib.pyplot as plt\n",
    "\n",
    "def load_data():\n",
    "    with open('samples/t10k-images.idx3-ubyte','rb') as f:\n",
    "        magic, size = struct.unpack(\">II\", f.read(8))\n",
    "        nrows, ncols = struct.unpack(\">II\", f.read(8))\n",
    "        data = np.fromfile(f, dtype=np.dtype(np.uint8).newbyteorder('>'))\n",
    "        data = data.reshape((size, -1))\n",
    "        data=data/255\n",
    "    with open('samples/t10k-labels.idx1-ubyte','rb') as f:\n",
    "        magic, size = struct.unpack(\">II\", f.read(8))\n",
    "        labels = np.fromfile(f, dtype=np.dtype(np.uint8).newbyteorder('>'))\n",
    "        labels = labels.reshape((size,)) # (Optional)\n",
    "    return labels, data, nrows, ncols\n"
   ]
  },
  {
   "cell_type": "markdown",
   "metadata": {},
   "source": [
    "In most contexts, including for machine learning, the convention is to stack these vectors as rows of the matrix, giving the matrix dimensions of $m : \\text{rows} \\times n : \\text{columns}$, where $m$ is the number of training examples and $n$ is the number of features, in this case 784. To make our math easier, we're going to transpose this matrix, giving it dimensions $n \\times m$ instead, with each column corresponding to a training example and each row a training feature."
   ]
  },
  {
   "cell_type": "code",
   "execution_count": 224,
   "metadata": {},
   "outputs": [
    {
     "name": "stdout",
     "output_type": "stream",
     "text": [
      "(10000,)\n",
      "(10000, 784)\n",
      "(10000,)\n",
      "(784, 10000)\n"
     ]
    }
   ],
   "source": [
    "labels, data, nrows, ncols=load_data()\n",
    "n_samples=10000\n",
    "# m:rows:examples, n:columns:features\n",
    "print(labels.shape)\n",
    "print(data.shape)\n",
    "\n",
    "# We transpose it to make math easier\n",
    "data=data.T[:,:n_samples]\n",
    "labels=labels[:n_samples]\n",
    "print(labels.shape)\n",
    "print(data.shape)"
   ]
  },
  {
   "cell_type": "code",
   "execution_count": 225,
   "metadata": {},
   "outputs": [
    {
     "data": {
      "image/png": "[encoded data removed]",
      "text/plain": [
       "<Figure size 432x288 with 1 Axes>"
      ]
     },
     "metadata": {
      "needs_background": "light"
     },
     "output_type": "display_data"
    }
   ],
   "source": [
    "# Preview of first data point\n",
    "plt.imshow(data[:,0].reshape(nrows,ncols), cmap='gray')\n",
    "plt.show()"
   ]
  },
  {
   "cell_type": "markdown",
   "metadata": {},
   "source": [
    "### Representing weights and biases\n",
    "\n",
    "Let's look at our neural network now. Between every two layers is a set of connections between every node in the previous layer and every node in the following one. That is, there is a weight $w_{i,j}$ for every $i$ in the number of nodes in the previous layer and every $j$ in the number of nodes in the following one.\n",
    "\n",
    "It's natural, then, to represent our weights as a matrix of dimensions $n^{[l]}\\times n^{[l-1]}$, where $n^{[l-1]}$ is the number of nodes in the previous layer and $n^{[l]}$ is the number of nodes in the following layer. Let's call this matrix $W^{[l]}$, corresponding to layer $l$ of our network. $W^{[1]}$, for example, will be a $10\\times784$ matrix, taking us from the 784 nodes of the input layer to the 10 nodes of the first hidden layer. $W^{[2]}$ will have dimensions $10\\times10$.\n",
    "\n",
    "Biases are simply constant terms added to each node of the following layer, so we can represent it as a matrix with dimensions $n^{[l]}\\times 1$. Let's call these matrices $b^{[l]}$, so that $b^{[1]}$ and $b^{[2]}$ both have dimensions $10\\times1$.\n",
    "\n"
   ]
  },
  {
   "cell_type": "code",
   "execution_count": 226,
   "metadata": {},
   "outputs": [],
   "source": [
    "def init_params():\n",
    "    N_L1=100\n",
    "    N_L2=10\n",
    "    W1 = np.random.rand(N_L1, 784) - 0.5\n",
    "    b1 = np.random.rand(N_L1, 1) - 0.5\n",
    "    W2 = np.random.rand(N_L2, N_L1) - 0.5\n",
    "    b2 = np.random.rand(N_L2, 1) - 0.5\n",
    "    return W1, b1, W2, b2\n",
    "\n",
    "W1, b1, W2, b2 =init_params()"
   ]
  },
  {
   "cell_type": "markdown",
   "metadata": {},
   "source": [
    "### Forward propagation\n",
    "With these representations in mind, we can now write the equations for forward propagation.\n",
    "\n",
    "First, we'll compute the unactivated values of the nodes in the first hidden layer by applying $W^{[1]}$ and $b^{[1]}$ to our input layer. We'll call the output of this operation $Z^{[1]}$:\n",
    "\n",
    "$Z^{[1]} = W^{[1]}X+b^{[1]}$\n",
    "\n",
    "Remember that $X$ has dimensions $784\\times m$, and $W^{[1]} : 10\\times784$. $W^{[1]}X$ is the dot product between the two, yielding a new matrix of dimensions $10\\times m$. This may seem a little strange at first, but think of it this way: each column of this matrix corresponds to the unactivated values for the nodes in the first hidden layer when carried out for one training example, so the entire matrix represents carrying out the first step of forward propagation for all training examples at the same time. This is much more efficient than a for loop, and is what was referred to earlier as a \"vectorized implementation.\"\n",
    "\n",
    "Our bias term $b^{[1]}$has dimensions $10\\times1$, but we want the same column of biases to be applied to all $m$ columns of training examples, so $b^{[1]}$is effectively broadcast into a matrix of dimensions $10\\times m$ when calculating $Z^{[1]}$, matching the dimensions of $W^{[1]}X$.\n",
    "\n",
    "We need to do one more calculation before moving on to the next layer, though, and that's applying a non-linear activation to $Z^{[1]}$. What does this mean, and why do we have to do it?\n",
    "\n",
    "Imagine that we didn't do anything to $Z^{[1]}$ now, and multiplied it by $W^{[2]}$ and added $b^{[2]}$ to get the value for the next layer. $Z^{[1]}$ is a linear combination of the input features, and the second layer would be a linear combination of $Z^{[1]}$, making it still a linear combination of the input features. That means that our hidden layer is essentially useless, and we're just building a linear regression model.\n",
    "\n",
    "To prevent this reduction and actually add complexity with our layers, we'll run $Z^{[1]}$ through a non-linear activation function before passing it off to the next layer. In this case, we'll be using a function called a rectified linear unit, or ReLU:\n",
    "\n",
    "\n",
    "\n",
    "ReLU is a really simple function: it's linear if the input value is above 0, and outputs 0 otherwise. Just this much, though, is enough to ensure that our model doesn't collapse to a linear one.\n",
    "\n",
    "From $Z^{[1]}$, we'll calculate a value $A^{[1]}$ for the values of the nodes in the hidden layer of our neural network after applying our activation function to it:\n",
    "\n",
    "$A^{[1]} = \\text{ReLU}(Z^{[1]})$\n",
    "\n",
    "More generally, you might see this written as $A^{[l]} = g(Z^{[l]})$, with $g$ referring to an arbitrary activation function that may be something other than ReLU.\n",
    "\n",
    "Once we have $A^{[1]}$, we can proceed to calculating the values for our second layer, which is also our output layer. First, we calculate $Z^{[2]}$:\n",
    "\n",
    "$Z^{[2]} = W^{[2]}A^{[1]}+b^{[2]}$\n",
    "\n",
    "Then, we'll apply an activation function to $Z^{[2]}$ to get our final output.\n",
    "\n",
    "If this second layer were just another hidden layer, with more hidden layers or an output layer after it, we would apply ReLU again. But since it's the output layer, we'll apply a special activation function called softmax:\n",
    "\n",
    "\n",
    "\n",
    "Diagram by Bartosz Szabłowski on Towards Data Science\n",
    "\n",
    "Softmax takes a column of data at a time, taking each element in the column and outputting the exponential of that element divided by the sum of the exponentials of each of the elements in the input column. The end result is a column of probabilities between 0 and 1.\n",
    "\n",
    "The value of using softmax for our output layer is that we can read the output as probabilities for certain predictions. In the diagram above, for example, we might read the output as a prediction that the second class has a 90% probability of being the correct label, the third a 5% probability, the fourth a 1% probability, and so on.\n",
    "\n",
    "Let's find our $A^{[2]}$:\n",
    "\n",
    "$A^{[2]} = \\text{softmax}(Z^{[2]})$\n",
    "\n",
    "Softmax runs element-wise, so the dimensions of $Z^{[2]}$ are preserved at $10\\times m$. We can read this output matrix as follows: value $A^{[2]}_{i, j}$ is the probability that example $j$ is an image of the digit $i$.\n",
    "\n",
    "With that, we've run through the entire neural network, going from our input $X$ containing all of our training examples to an output matrix $A^{[2]}$ containing prediction probabilities for each example."
   ]
  },
  {
   "cell_type": "code",
   "execution_count": 227,
   "metadata": {},
   "outputs": [],
   "source": [
    "def ReLU(Z):\n",
    "    return np.maximum(Z,0)\n",
    "\n",
    "def ReLU_dev(Z):\n",
    "    return 1*(Z>0)\n",
    "\n",
    "def softmax(Z):\n",
    "    A = np.exp(Z) / sum(np.exp(Z))\n",
    "    return A\n",
    "\n",
    "def forward_prop(W1,b1,W2,b2,X):\n",
    "    Z1=W1.dot(X)+b1\n",
    "    A1=ReLU(Z1)\n",
    "    Z2=W2.dot(A1)+b2\n",
    "    A2=softmax(Z2)\n",
    "    return Z1,A1,Z2,A2\n",
    "\n",
    "def get_predictions(A2):\n",
    "    return np.argmax(A2,axis=0)"
   ]
  },
  {
   "cell_type": "code",
   "execution_count": 228,
   "metadata": {},
   "outputs": [
    {
     "data": {
      "text/plain": [
       "(10, 10000)"
      ]
     },
     "execution_count": 228,
     "metadata": {},
     "output_type": "execute_result"
    }
   ],
   "source": [
    "Z1,A1,Z2,A2=forward_prop(W1,b1,W2,b2,data)\n",
    "A2.shape"
   ]
  },
  {
   "cell_type": "code",
   "execution_count": 229,
   "metadata": {},
   "outputs": [
    {
     "name": "stdout",
     "output_type": "stream",
     "text": [
      "(10, 10000)\n",
      "7 [0. 0. 0. 0. 0. 0. 0. 1. 0. 0.]\n"
     ]
    }
   ],
   "source": [
    "def one_hot(y):\n",
    "    yy=np.zeros((y.max()+1,y.size))\n",
    "    yy[y,np.arange(y.size)]=1\n",
    "    return yy\n",
    "one_hot_y=one_hot(labels)\n",
    "print(one_hot_y.shape)\n",
    "print(labels[0],one_hot_y[:,0])"
   ]
  },
  {
   "cell_type": "code",
   "execution_count": 230,
   "metadata": {},
   "outputs": [
    {
     "name": "stdout",
     "output_type": "stream",
     "text": [
      "(10000,)\n",
      "[ 4.8182264  15.38713656  4.67389282 ...  7.6392943  18.21206472\n",
      "  0.35372098]\n"
     ]
    }
   ],
   "source": [
    "def cross_ent(y,y_hat): # true(onehotencoded), predicted\n",
    "    return -np.log(y_hat.T[y.astype(bool).T])\n",
    "\n",
    "ce=cross_ent(one_hot_y,A2)\n",
    "\n",
    "print(ce.shape)\n",
    "print(ce)"
   ]
  },
  {
   "cell_type": "markdown",
   "metadata": {},
   "source": [
    "### Backward propagation\n",
    "Now, we'll go the opposite way and calculate how to nudge our parameters to carry out gradient descent.\n",
    "\n",
    "Mathematically, what we're actually computing is the derivative of the loss function with respect to each weight and bias parameter. For a softmax classifier, we'll use a cross-entropy loss function:\n",
    "\n",
    "$J(\\hat{y}, y) = -\\sum_{i=0}^{c} y_i \\log(\\hat{y}_i)$\n",
    "\n",
    "Here, $\\hat{y}$ is our prediction vector. It might look like this:\n",
    "\n",
    "$\\begin{bmatrix} 0.01 \\ 0.02 \\ 0.05 \\ 0.02 \\ 0.80 \\ 0.01 \\ 0.01 \\ 0.00 \\ 0.01 \\ 0.07 \\ \\end{bmatrix}$\n",
    "\n",
    "$y$ is the one-hot encoding of the correct label for the training example. If the label for a training example is 4, for example, the one-hot encoding of $y$ would look like this:\n",
    "\n",
    "$\\begin{bmatrix} 0 \\ 0 \\ 0 \\ 0 \\ 1 \\ 0 \\ 0 \\ 0 \\ 0 \\ 0 \\ \\end{bmatrix}$\n",
    "\n",
    "Notice that in our sum $\\sum_{i=0}^{c} y_i \\log(\\hat{y}_i)$, $y_i = 0$ for all $i$ except the correct label. The loss for a given example, then, is just the log of the probability given for the correct prediction. In our example above, $J(\\hat{y}, y) = -\\log(y_4) = -\\log(0.80) \\approx 0.097$. Notice that, the closer the prediction probability is to 1, the closer the loss is to 0. As the probability approaches 0, the loss approaches $+\\infty$. By minimizing the cost function, we improve the accuracy of our model. We do so by substracting the derivative of the loss function with respect to each parameter from that parameter over many rounds of graident descent:\n",
    "\n",
    "$W^{[1]} := W^{[1]} - \\alpha \\frac{\\delta J}{\\delta W^{[1]}} \\ b^{[1]} := b^{[1]} - \\alpha \\frac{\\delta J}{\\delta b^{[1]}} \\ W^{[2]} := W^{[2]} - \\alpha \\frac{\\delta J}{\\delta W^{[2]}} \\ b^{[2]} := b^{[2]} - \\alpha \\frac{\\delta J}{\\delta b^{[2]}} \\ $\n",
    "\n",
    "Our objective in backprop is to find $\\frac{\\delta J}{\\delta W^{[1]}},\\frac{\\delta J}{\\delta b^{[1]}},\\frac{\\delta J}{\\delta W^{[2]}},$ and $\\frac{\\delta J}{\\delta b^{[2]}}$. For concision, we'll write these values as $dW^{[1]}, db^{[1]}, dW^{[2]},$ and $db^{[2]}$. We'll find these values by stepping backwards through our network, starting by calculating $\\frac{\\delta J}{\\delta A^{[2]}}$, or $dA^{[2]}$. Turns out that this derivative is simply:\n",
    "\n",
    "$dA^{[2]} = Y - A^{[2]}$\n",
    "\n",
    "If you know calculus, you can take the derivative of the loss function and confirm this for yourself. (Hint: $\\hat{y} = A^{[2]}$)\n",
    "\n",
    "From $dA^{[2]}$, we can calculate $dW^{[2]}$ and $db^{[1]}$:\n",
    "\n",
    "$dW^{[2]} = \\frac{1}{m} dZ^{[2]} A^{[1]T} \\ dB^{[2]} = \\frac{1}{m} \\Sigma {dZ^{[2]}}$\n",
    "\n",
    "Then, to calculate $dW^{[1]}$ and $db^{[1]}$, we'll first find $dZ^{[1]}$:\n",
    "\n",
    "$dZ^{[1]} = W^{[2]T} dZ^{[2]} .* g^{[1]\\prime} (Z^{[1]})$\n",
    "\n",
    "I won't explain all the details of the math, but you can get some intuitive hints at what's going on here by just looking at the variables. We're applying $W^{[2]T}$ to $dZ^{[2]}$, akin to applying the weights between layers 1 and 2 in reverse. Then, we perform an element-wise multiplication with the derivative of the activation function, akin to \"undoing\" it to get the correct error values.\n",
    "\n",
    "Since our activation function is ReLU, our derivative is actually pretty simple. Let's revisit our graph:\n",
    "\n",
    "\n",
    "\n",
    "When the input value is greater than 0, the activation function is linear with a derivative of 1. When the input value is less than 0, the activation function is horizontal with a derivative of 0. Thus, $g^{[1]\\prime}(Z^{[1]})$ is just a matrix of 1s and 0s based on values of $Z^{[1]}$.\n",
    "\n",
    "From here, we do the same calculations as earlier to find $dW^{[1]}$ and $db^{[1]}$, using $X$ in place of $A^{[1]}$:\n",
    "\n",
    "$dW^{[1]} = \\frac{1}{m} dZ^{[1]} X^T \\ dB^{[1]} = \\frac{1}{m} \\Sigma {dZ^{[1]}}$\n",
    "\n",
    "Now we've found all the derivatives we need, and all that's left is to update our parameters:\n",
    "\n",
    "$W^{[2]} := W^{[2]} - \\alpha dW^{[2]} \\ b^{[2]} := b^{[2]} - \\alpha db^{[2]} \\ W^{[1]} := W^{[1]} - \\alpha dW^{[1]} \\ b^{[1]} := b^{[1]} - \\alpha db^{[1]}$\n",
    "\n",
    "Here, $\\alpha$is our learning rate, a \"hyperparameter\" that we set to whatever we want. $\\alpha$ is distinguished from other parameters because, just like the number of layers in the network or the number of units in each layer, it's a value that we choose for our model rather than one that gradient descent optimizes.\n",
    "\n",
    "With that, we've gone over all the math that we need to carry out gradient descent and train our neural network. To recap: first, we carry out forward propagation, getting a prediction from an input image:\n",
    "\n",
    "$Z^{[1]} = W^{[1]} X + b^{[1]}A^{[1]} = g_{\\text{ReLU}}(Z^{[1]}))\\Z^{[2]} = W^{[2]} A^{[1]} + b^{[2]}A^{[2]} = g_{\\text{softmax}}(Z^{[2]})$\n",
    "\n",
    "Then, we carry out backprop to compute loss function derivatives:\n",
    "\n",
    "$dZ^{[2]} = A^{[2]} - Y dW^{[2]} = \\frac{1}{m} dZ^{[2]} A^{[1]T}dB^{[2]} = \\frac{1}{m} \\Sigma {dZ^{[2]}}dZ^{[1]} = W^{[2]T} dZ^{[2]} .* g^{[1]\\prime} (z^{[1]})dW^{[1]} = \\frac{1}{m} dZ^{[1]} A^{[0]T}dB^{[1]} = \\frac{1}{m} \\Sigma {dZ^{[1]}}$\n",
    "\n",
    "Finally, we update our parameters accordingly:\n",
    "\n",
    "$W^{[2]} := W^{[2]} - \\alpha dW^{[2]} \\ b^{[2]} := b^{[2]} - \\alpha db^{[2]} \\ W^{[1]} := W^{[1]} - \\alpha dW^{[1]} \\ b^{[1]} := b^{[1]} - \\alpha db^{[1]}$\n",
    "\n",
    "We'll do this process over and over again — the exact number of times, an iteration count that we again set ourselves — until we are satisfied with the performance of our model."
   ]
  },
  {
   "cell_type": "markdown",
   "metadata": {},
   "source": [
    "https://stats.stackexchange.com/questions/235528/backpropagation-with-softmax-cross-entropy\n",
    "![](d1.png)\n",
    "![](d2.png)"
   ]
  },
  {
   "cell_type": "code",
   "execution_count": 231,
   "metadata": {},
   "outputs": [
    {
     "name": "stdout",
     "output_type": "stream",
     "text": [
      "(100, 784)\n",
      "(100, 1)\n",
      "(10, 100)\n",
      "(10, 1)\n"
     ]
    }
   ],
   "source": [
    "# forward_prop(W1,b1,W2,b2,X):\n",
    "# return Z1,A1,Z2,A2\n",
    "def backward_prop(Z1, A1, Z2, A2, W1, W2, X, Y):\n",
    "    N=labels.size\n",
    "    one_hot_y=one_hot(Y)\n",
    "    dZ2=A2-one_hot_y\n",
    "    db2=np.sum(dZ2,axis=1,keepdims=True)/N\n",
    "    dW2=dZ2.dot(A1.T)/N\n",
    "    dZ1=W2.T.dot(dZ2)*ReLU_dev(Z1)\n",
    "    db1=np.sum(dZ1,axis=1,keepdims=True)/N\n",
    "    dW1=dZ1.dot(X.T)/N\n",
    "    return dW1,db1,dW2,db2\n",
    "\n",
    "for i in backward_prop(Z1, A1, Z2, A2, W1, W2, data, labels):\n",
    "    print(i.shape) "
   ]
  },
  {
   "cell_type": "code",
   "execution_count": 232,
   "metadata": {},
   "outputs": [],
   "source": [
    "dW1,db1,dW2,db2=backward_prop(Z1, A1, Z2, A2, W1, W2, data, labels)"
   ]
  },
  {
   "cell_type": "code",
   "execution_count": 233,
   "metadata": {},
   "outputs": [],
   "source": [
    "def update_params(W1,b1, W2,b2,dW1,db1,dW2,db2,alpha):\n",
    "    W1-=dW1*alpha\n",
    "    b1-=db1*alpha\n",
    "    W2-=dW2*alpha\n",
    "    b2-=db2*alpha\n",
    "    return W1, b1, W2, b2"
   ]
  },
  {
   "cell_type": "code",
   "execution_count": 234,
   "metadata": {},
   "outputs": [],
   "source": [
    "def get_accuracy(predictions,Y):\n",
    "    return np.sum(predictions==Y)/Y.size"
   ]
  },
  {
   "cell_type": "code",
   "execution_count": 235,
   "metadata": {},
   "outputs": [
    {
     "name": "stdout",
     "output_type": "stream",
     "text": [
      "0.1047\n"
     ]
    },
    {
     "data": {
      "text/plain": [
       "array([[3, 6, 6, ..., 1, 3, 6],\n",
       "       [7, 2, 1, ..., 4, 5, 6]], dtype=int64)"
      ]
     },
     "execution_count": 235,
     "metadata": {},
     "output_type": "execute_result"
    }
   ],
   "source": [
    "predictions=get_predictions(A2)\n",
    "acc=get_accuracy(predictions,labels)\n",
    "print(acc)\n",
    "np.stack((predictions,labels))"
   ]
  },
  {
   "cell_type": "code",
   "execution_count": 236,
   "metadata": {},
   "outputs": [],
   "source": [
    "def gradient_descent(X,Y,alpha,iterations):\n",
    "    W1, b1, W2, b2 =init_params()\n",
    "    debug=[]\n",
    "    for i in range(iterations):\n",
    "        Z1,A1,Z2,A2 = forward_prop(W1,b1,W2,b2,X)\n",
    "        dW1,db1,dW2,db2 = backward_prop(Z1, A1, Z2, A2, W1, W2, X, Y)\n",
    "        W1, b1, W2, b2 = update_params(W1,b1, W2,b2,dW1,db1,dW2,db2,alpha)\n",
    "    \n",
    "        if i%10==0 or i==iterations-1:\n",
    "            predictions=get_predictions(A2)\n",
    "            acc=get_accuracy(predictions,labels)\n",
    "            debug.append((i,acc))\n",
    "            print(f\"Iteration: {i}\\t\\tAccuracy: {acc}\")\n",
    "\n",
    "    return W1,b1,W2,b2,debug"
   ]
  },
  {
   "cell_type": "code",
   "execution_count": 237,
   "metadata": {},
   "outputs": [
    {
     "name": "stdout",
     "output_type": "stream",
     "text": [
      "Iteration: 0\t\tAccuracy: 0.1044\n",
      "Iteration: 10\t\tAccuracy: 0.4664\n",
      "Iteration: 20\t\tAccuracy: 0.6213\n",
      "Iteration: 30\t\tAccuracy: 0.6954\n",
      "Iteration: 40\t\tAccuracy: 0.7402\n",
      "Iteration: 50\t\tAccuracy: 0.7696\n",
      "Iteration: 60\t\tAccuracy: 0.7918\n",
      "Iteration: 70\t\tAccuracy: 0.8062\n",
      "Iteration: 80\t\tAccuracy: 0.82\n",
      "Iteration: 90\t\tAccuracy: 0.8302\n",
      "Iteration: 100\t\tAccuracy: 0.8385\n",
      "Iteration: 110\t\tAccuracy: 0.8457\n",
      "Iteration: 120\t\tAccuracy: 0.8533\n",
      "Iteration: 130\t\tAccuracy: 0.8589\n",
      "Iteration: 140\t\tAccuracy: 0.8627\n",
      "Iteration: 150\t\tAccuracy: 0.8671\n",
      "Iteration: 160\t\tAccuracy: 0.8716\n",
      "Iteration: 170\t\tAccuracy: 0.8761\n",
      "Iteration: 180\t\tAccuracy: 0.8796\n",
      "Iteration: 190\t\tAccuracy: 0.8829\n",
      "Iteration: 200\t\tAccuracy: 0.8849\n",
      "Iteration: 210\t\tAccuracy: 0.8879\n",
      "Iteration: 220\t\tAccuracy: 0.8899\n",
      "Iteration: 230\t\tAccuracy: 0.892\n",
      "Iteration: 240\t\tAccuracy: 0.8944\n",
      "Iteration: 250\t\tAccuracy: 0.8961\n",
      "Iteration: 260\t\tAccuracy: 0.8974\n",
      "Iteration: 270\t\tAccuracy: 0.8992\n",
      "Iteration: 280\t\tAccuracy: 0.9008\n",
      "Iteration: 290\t\tAccuracy: 0.9021\n",
      "Iteration: 300\t\tAccuracy: 0.904\n",
      "Iteration: 310\t\tAccuracy: 0.9055\n",
      "Iteration: 320\t\tAccuracy: 0.9069\n",
      "Iteration: 330\t\tAccuracy: 0.9088\n",
      "Iteration: 340\t\tAccuracy: 0.9101\n",
      "Iteration: 350\t\tAccuracy: 0.9115\n",
      "Iteration: 360\t\tAccuracy: 0.9131\n",
      "Iteration: 370\t\tAccuracy: 0.9139\n",
      "Iteration: 380\t\tAccuracy: 0.9147\n",
      "Iteration: 390\t\tAccuracy: 0.9166\n",
      "Iteration: 400\t\tAccuracy: 0.9172\n",
      "Iteration: 410\t\tAccuracy: 0.9182\n",
      "Iteration: 420\t\tAccuracy: 0.9192\n",
      "Iteration: 430\t\tAccuracy: 0.9201\n",
      "Iteration: 440\t\tAccuracy: 0.9212\n",
      "Iteration: 450\t\tAccuracy: 0.9226\n",
      "Iteration: 460\t\tAccuracy: 0.9236\n",
      "Iteration: 470\t\tAccuracy: 0.9247\n",
      "Iteration: 480\t\tAccuracy: 0.9257\n",
      "Iteration: 490\t\tAccuracy: 0.9263\n",
      "Iteration: 500\t\tAccuracy: 0.9272\n",
      "Iteration: 510\t\tAccuracy: 0.9276\n",
      "Iteration: 520\t\tAccuracy: 0.9281\n",
      "Iteration: 530\t\tAccuracy: 0.9288\n",
      "Iteration: 540\t\tAccuracy: 0.9294\n",
      "Iteration: 550\t\tAccuracy: 0.9303\n",
      "Iteration: 560\t\tAccuracy: 0.9309\n",
      "Iteration: 570\t\tAccuracy: 0.9317\n",
      "Iteration: 580\t\tAccuracy: 0.9324\n",
      "Iteration: 590\t\tAccuracy: 0.9331\n",
      "Iteration: 600\t\tAccuracy: 0.9339\n",
      "Iteration: 610\t\tAccuracy: 0.9347\n",
      "Iteration: 620\t\tAccuracy: 0.9356\n",
      "Iteration: 630\t\tAccuracy: 0.936\n",
      "Iteration: 640\t\tAccuracy: 0.9366\n",
      "Iteration: 650\t\tAccuracy: 0.9369\n",
      "Iteration: 660\t\tAccuracy: 0.9377\n",
      "Iteration: 670\t\tAccuracy: 0.9381\n",
      "Iteration: 680\t\tAccuracy: 0.9385\n",
      "Iteration: 690\t\tAccuracy: 0.9389\n",
      "Iteration: 700\t\tAccuracy: 0.9397\n",
      "Iteration: 710\t\tAccuracy: 0.94\n",
      "Iteration: 720\t\tAccuracy: 0.9404\n",
      "Iteration: 730\t\tAccuracy: 0.9409\n",
      "Iteration: 740\t\tAccuracy: 0.9415\n",
      "Iteration: 750\t\tAccuracy: 0.942\n",
      "Iteration: 760\t\tAccuracy: 0.9424\n",
      "Iteration: 770\t\tAccuracy: 0.9434\n",
      "Iteration: 780\t\tAccuracy: 0.9435\n",
      "Iteration: 790\t\tAccuracy: 0.9438\n",
      "Iteration: 800\t\tAccuracy: 0.9443\n",
      "Iteration: 810\t\tAccuracy: 0.9451\n",
      "Iteration: 820\t\tAccuracy: 0.9454\n",
      "Iteration: 830\t\tAccuracy: 0.946\n",
      "Iteration: 840\t\tAccuracy: 0.9463\n",
      "Iteration: 850\t\tAccuracy: 0.9465\n",
      "Iteration: 860\t\tAccuracy: 0.9472\n",
      "Iteration: 870\t\tAccuracy: 0.9475\n",
      "Iteration: 880\t\tAccuracy: 0.9479\n",
      "Iteration: 890\t\tAccuracy: 0.9487\n",
      "Iteration: 900\t\tAccuracy: 0.949\n",
      "Iteration: 910\t\tAccuracy: 0.9492\n",
      "Iteration: 920\t\tAccuracy: 0.9494\n",
      "Iteration: 930\t\tAccuracy: 0.9498\n",
      "Iteration: 940\t\tAccuracy: 0.9501\n",
      "Iteration: 950\t\tAccuracy: 0.9505\n",
      "Iteration: 960\t\tAccuracy: 0.9509\n",
      "Iteration: 970\t\tAccuracy: 0.9515\n",
      "Iteration: 980\t\tAccuracy: 0.9521\n",
      "Iteration: 990\t\tAccuracy: 0.9523\n",
      "Iteration: 999\t\tAccuracy: 0.9527\n"
     ]
    }
   ],
   "source": [
    "labels, data, _,_ =load_data()\n",
    "data=data.T\n",
    "W1,b1,W2,b2,debug=gradient_descent(data,labels,0.1,1000)"
   ]
  },
  {
   "cell_type": "code",
   "execution_count": 238,
   "metadata": {},
   "outputs": [
    {
     "name": "stdout",
     "output_type": "stream",
     "text": [
      "Final accuracy:  0.9527\n"
     ]
    },
    {
     "data": {
      "image/png": "[encoded data removed]",
      "text/plain": [
       "<Figure size 432x288 with 1 Axes>"
      ]
     },
     "metadata": {
      "needs_background": "light"
     },
     "output_type": "display_data"
    }
   ],
   "source": [
    "x,y=zip(*debug)\n",
    "plt.plot(x,y)\n",
    "plt.xlabel(\"Iteration\")\n",
    "plt.ylabel(\"Accuracy\")\n",
    "ax = plt.gca()\n",
    "ax.set_xlim([0, None])\n",
    "ax.set_ylim([0, 1])\n",
    "print(\"Final accuracy: \",y[-1])"
   ]
  },
  {
   "cell_type": "code",
   "execution_count": 255,
   "metadata": {},
   "outputs": [
    {
     "name": "stdout",
     "output_type": "stream",
     "text": [
      "472\n",
      "ID\tLabel\tPrediction\tError\n",
      "8\t5\t\t6\t x\n",
      "33\t4\t\t6\t x\n",
      "73\t9\t\t7\t x\n",
      "124\t7\t\t4\t x\n",
      "149\t2\t\t4\t x\n",
      "195\t3\t\t5\t x\n",
      "217\t6\t\t5\t x\n",
      "227\t4\t\t9\t x\n",
      "241\t9\t\t8\t x\n",
      "245\t3\t\t5\t x\n",
      "259\t6\t\t0\t x\n",
      "274\t9\t\t7\t x\n",
      "313\t3\t\t5\t x\n",
      "320\t9\t\t1\t x\n",
      "321\t2\t\t7\t x\n",
      "341\t6\t\t4\t x\n",
      "349\t3\t\t7\t x\n",
      "381\t3\t\t7\t x\n",
      "417\t9\t\t7\t x\n",
      "428\t4\t\t9\t x\n",
      "445\t6\t\t0\t x\n",
      "448\t9\t\t8\t x\n",
      "456\t2\t\t1\t x\n",
      "478\t5\t\t8\t x\n",
      "479\t9\t\t3\t x\n",
      "495\t8\t\t0\t x\n",
      "502\t5\t\t3\t x\n",
      "507\t3\t\t8\t x\n",
      "511\t4\t\t7\t x\n",
      "515\t3\t\t2\t x\n",
      "530\t9\t\t4\t x\n",
      "543\t8\t\t3\t x\n",
      "551\t7\t\t3\t x\n",
      "552\t0\t\t9\t x\n",
      "578\t3\t\t9\t x\n",
      "591\t8\t\t3\t x\n",
      "613\t2\t\t8\t x\n",
      "619\t1\t\t8\t x\n",
      "628\t3\t\t9\t x\n",
      "629\t2\t\t6\t x\n",
      "658\t7\t\t4\t x\n",
      "659\t2\t\t9\t x\n",
      "661\t0\t\t3\t x\n",
      "664\t8\t\t5\t x\n",
      "691\t8\t\t4\t x\n",
      "707\t4\t\t9\t x\n",
      "717\t0\t\t9\t x\n",
      "720\t5\t\t8\t x\n",
      "740\t4\t\t9\t x\n",
      "760\t4\t\t9\t x\n",
      "800\t8\t\t9\t x\n",
      "866\t5\t\t8\t x\n",
      "890\t3\t\t5\t x\n",
      "900\t1\t\t3\t x\n",
      "947\t8\t\t9\t x\n",
      "965\t6\t\t0\t x\n",
      "975\t2\t\t3\t x\n",
      "999\t9\t\t7\t x\n",
      "1014\t6\t\t5\t x\n",
      "1032\t5\t\t8\t x\n",
      "1039\t7\t\t1\t x\n",
      "1044\t6\t\t8\t x\n",
      "1062\t3\t\t7\t x\n",
      "1096\t7\t\t9\t x\n",
      "1107\t9\t\t3\t x\n",
      "1114\t3\t\t8\t x\n",
      "1173\t7\t\t9\t x\n",
      "1181\t6\t\t1\t x\n",
      "1182\t6\t\t8\t x\n",
      "1192\t9\t\t4\t x\n",
      "1224\t2\t\t6\t x\n",
      "1226\t7\t\t2\t x\n",
      "1232\t9\t\t4\t x\n",
      "1242\t4\t\t9\t x\n",
      "1247\t9\t\t0\t x\n",
      "1251\t2\t\t0\t x\n",
      "1260\t7\t\t1\t x\n",
      "1270\t4\t\t9\t x\n",
      "1274\t4\t\t7\t x\n",
      "1283\t7\t\t2\t x\n",
      "1289\t5\t\t9\t x\n",
      "1319\t8\t\t3\t x\n",
      "1320\t8\t\t3\t x\n",
      "1325\t8\t\t6\t x\n",
      "1326\t7\t\t2\t x\n",
      "1337\t2\t\t6\t x\n",
      "1357\t4\t\t9\t x\n",
      "1410\t2\t\t6\t x\n",
      "1414\t9\t\t4\t x\n",
      "1433\t8\t\t3\t x\n",
      "1440\t4\t\t9\t x\n",
      "1467\t5\t\t9\t x\n",
      "1494\t7\t\t0\t x\n",
      "1500\t7\t\t3\t x\n",
      "1522\t7\t\t9\t x\n",
      "1530\t8\t\t7\t x\n",
      "1553\t9\t\t8\t x\n",
      "1571\t4\t\t9\t x\n",
      "1609\t2\t\t5\t x\n",
      "1621\t0\t\t6\t x\n",
      "1634\t4\t\t7\t x\n",
      "1635\t5\t\t6\t x\n",
      "1640\t9\t\t7\t x\n",
      "1681\t3\t\t7\t x\n",
      "1695\t9\t\t7\t x\n",
      "1709\t9\t\t5\t x\n",
      "1754\t7\t\t2\t x\n",
      "1773\t1\t\t2\t x\n",
      "1790\t2\t\t7\t x\n",
      "1794\t0\t\t5\t x\n",
      "1813\t8\t\t2\t x\n",
      "1828\t3\t\t5\t x\n",
      "1868\t1\t\t4\t x\n",
      "1878\t8\t\t3\t x\n",
      "1880\t6\t\t0\t x\n",
      "1901\t9\t\t4\t x\n",
      "1911\t5\t\t0\t x\n",
      "1938\t4\t\t6\t x\n",
      "1940\t5\t\t0\t x\n",
      "1941\t7\t\t4\t x\n",
      "1952\t9\t\t2\t x\n",
      "1970\t5\t\t3\t x\n",
      "1981\t6\t\t4\t x\n",
      "2016\t7\t\t2\t x\n",
      "2040\t5\t\t6\t x\n",
      "2043\t4\t\t8\t x\n",
      "2044\t2\t\t7\t x\n",
      "2053\t4\t\t9\t x\n",
      "2070\t7\t\t9\t x\n",
      "2093\t8\t\t2\t x\n",
      "2098\t2\t\t0\t x\n",
      "2109\t3\t\t4\t x\n",
      "2115\t7\t\t9\t x\n",
      "2118\t6\t\t0\t x\n",
      "2129\t9\t\t2\t x\n",
      "2130\t4\t\t9\t x\n",
      "2135\t6\t\t1\t x\n",
      "2145\t4\t\t2\t x\n",
      "2152\t8\t\t3\t x\n",
      "2182\t1\t\t2\t x\n",
      "2185\t0\t\t5\t x\n",
      "2189\t9\t\t1\t x\n",
      "2266\t1\t\t6\t x\n",
      "2272\t8\t\t0\t x\n",
      "2293\t9\t\t2\t x\n",
      "2358\t1\t\t6\t x\n",
      "2369\t5\t\t9\t x\n",
      "2371\t4\t\t9\t x\n",
      "2381\t8\t\t9\t x\n",
      "2387\t9\t\t7\t x\n",
      "2394\t4\t\t9\t x\n",
      "2406\t9\t\t1\t x\n",
      "2422\t6\t\t2\t x\n",
      "2426\t9\t\t7\t x\n",
      "2437\t2\t\t1\t x\n",
      "2438\t9\t\t7\t x\n",
      "2488\t2\t\t6\t x\n",
      "2515\t5\t\t6\t x\n",
      "2534\t3\t\t5\t x\n",
      "2598\t8\t\t2\t x\n",
      "2607\t7\t\t2\t x\n",
      "2610\t2\t\t8\t x\n",
      "2631\t0\t\t6\t x\n",
      "2648\t9\t\t0\t x\n",
      "2670\t5\t\t8\t x\n",
      "2683\t4\t\t9\t x\n",
      "2713\t0\t\t8\t x\n",
      "2721\t6\t\t5\t x\n",
      "2770\t3\t\t5\t x\n",
      "2780\t2\t\t3\t x\n",
      "2832\t5\t\t3\t x\n",
      "2836\t4\t\t9\t x\n",
      "2866\t6\t\t4\t x\n",
      "2879\t4\t\t9\t x\n",
      "2896\t8\t\t0\t x\n",
      "2907\t4\t\t9\t x\n",
      "2925\t5\t\t0\t x\n",
      "2927\t3\t\t2\t x\n",
      "2945\t3\t\t7\t x\n",
      "2952\t3\t\t5\t x\n",
      "2953\t3\t\t5\t x\n",
      "2986\t5\t\t6\t x\n",
      "2995\t6\t\t5\t x\n",
      "3005\t9\t\t1\t x\n",
      "3030\t6\t\t5\t x\n",
      "3060\t9\t\t7\t x\n",
      "3073\t1\t\t7\t x\n",
      "3078\t3\t\t8\t x\n",
      "3115\t5\t\t4\t x\n",
      "3117\t5\t\t9\t x\n",
      "3133\t4\t\t9\t x\n",
      "3160\t9\t\t4\t x\n",
      "3167\t3\t\t1\t x\n",
      "3186\t8\t\t2\t x\n",
      "3189\t7\t\t4\t x\n",
      "3206\t8\t\t3\t x\n",
      "3269\t6\t\t2\t x\n",
      "3316\t7\t\t4\t x\n",
      "3333\t7\t\t9\t x\n",
      "3369\t9\t\t7\t x\n",
      "3394\t9\t\t2\t x\n",
      "3405\t4\t\t9\t x\n",
      "3429\t4\t\t9\t x\n",
      "3436\t2\t\t1\t x\n",
      "3460\t9\t\t4\t x\n",
      "3475\t3\t\t7\t x\n",
      "3476\t3\t\t2\t x\n",
      "3490\t4\t\t9\t x\n",
      "3503\t9\t\t1\t x\n",
      "3506\t5\t\t6\t x\n",
      "3520\t6\t\t4\t x\n",
      "3549\t3\t\t8\t x\n",
      "3550\t6\t\t5\t x\n",
      "3559\t8\t\t5\t x\n",
      "3567\t8\t\t5\t x\n",
      "3573\t7\t\t4\t x\n",
      "3575\t7\t\t8\t x\n",
      "3597\t9\t\t3\t x\n",
      "3598\t1\t\t5\t x\n",
      "3599\t2\t\t7\t x\n",
      "3604\t7\t\t0\t x\n",
      "3688\t6\t\t5\t x\n",
      "3702\t5\t\t3\t x\n",
      "3716\t9\t\t3\t x\n",
      "3718\t4\t\t9\t x\n",
      "3726\t4\t\t9\t x\n",
      "3730\t7\t\t9\t x\n",
      "3751\t7\t\t5\t x\n",
      "3757\t8\t\t3\t x\n",
      "3767\t7\t\t2\t x\n",
      "3769\t3\t\t7\t x\n",
      "3780\t4\t\t2\t x\n",
      "3796\t2\t\t8\t x\n",
      "3801\t6\t\t0\t x\n",
      "3806\t5\t\t8\t x\n",
      "3808\t7\t\t3\t x\n",
      "3811\t2\t\t3\t x\n",
      "3817\t2\t\t4\t x\n",
      "3821\t9\t\t4\t x\n",
      "3838\t7\t\t1\t x\n",
      "3853\t6\t\t5\t x\n",
      "3855\t5\t\t8\t x\n",
      "3862\t2\t\t3\t x\n",
      "3869\t9\t\t4\t x\n",
      "3902\t5\t\t3\t x\n",
      "3906\t1\t\t3\t x\n",
      "3926\t9\t\t3\t x\n",
      "3943\t3\t\t5\t x\n",
      "3951\t8\t\t5\t x\n",
      "3967\t9\t\t4\t x\n",
      "3968\t5\t\t8\t x\n",
      "3976\t7\t\t1\t x\n",
      "3984\t9\t\t8\t x\n",
      "3985\t9\t\t4\t x\n",
      "4000\t9\t\t4\t x\n",
      "4007\t7\t\t4\t x\n",
      "4009\t9\t\t4\t x\n",
      "4017\t4\t\t9\t x\n",
      "4052\t5\t\t8\t x\n",
      "4063\t6\t\t5\t x\n",
      "4065\t0\t\t2\t x\n",
      "4072\t5\t\t3\t x\n",
      "4075\t8\t\t5\t x\n",
      "4078\t9\t\t7\t x\n",
      "4093\t9\t\t4\t x\n",
      "4126\t8\t\t5\t x\n",
      "4131\t5\t\t1\t x\n",
      "4143\t9\t\t4\t x\n",
      "4152\t5\t\t1\t x\n",
      "4154\t9\t\t4\t x\n",
      "4163\t9\t\t5\t x\n",
      "4173\t2\t\t8\t x\n",
      "4176\t2\t\t7\t x\n",
      "4201\t1\t\t7\t x\n",
      "4205\t2\t\t1\t x\n",
      "4211\t6\t\t5\t x\n",
      "4212\t1\t\t5\t x\n",
      "4215\t7\t\t9\t x\n",
      "4230\t8\t\t0\t x\n",
      "4238\t7\t\t4\t x\n",
      "4248\t2\t\t8\t x\n",
      "4265\t4\t\t9\t x\n",
      "4271\t5\t\t3\t x\n",
      "4284\t9\t\t3\t x\n",
      "4291\t4\t\t2\t x\n",
      "4300\t5\t\t9\t x\n",
      "4306\t3\t\t7\t x\n",
      "4313\t4\t\t9\t x\n",
      "4344\t9\t\t4\t x\n",
      "4355\t5\t\t9\t x\n",
      "4369\t9\t\t4\t x\n",
      "4380\t8\t\t5\t x\n",
      "4391\t7\t\t9\t x\n",
      "4433\t7\t\t3\t x\n",
      "4451\t2\t\t8\t x\n",
      "4477\t0\t\t3\t x\n",
      "4497\t8\t\t7\t x\n",
      "4498\t7\t\t9\t x\n",
      "4500\t9\t\t3\t x\n",
      "4523\t8\t\t3\t x\n",
      "4567\t4\t\t9\t x\n",
      "4571\t6\t\t2\t x\n",
      "4575\t4\t\t2\t x\n",
      "4601\t8\t\t4\t x\n",
      "4615\t2\t\t4\t x\n",
      "4634\t8\t\t1\t x\n",
      "4639\t8\t\t9\t x\n",
      "4662\t9\t\t4\t x\n",
      "4665\t9\t\t3\t x\n",
      "4690\t7\t\t2\t x\n",
      "4695\t4\t\t9\t x\n",
      "4702\t6\t\t8\t x\n",
      "4721\t4\t\t9\t x\n",
      "4731\t8\t\t7\t x\n",
      "4735\t9\t\t4\t x\n",
      "4761\t9\t\t7\t x\n",
      "4807\t8\t\t3\t x\n",
      "4808\t3\t\t5\t x\n",
      "4823\t9\t\t4\t x\n",
      "4837\t7\t\t2\t x\n",
      "4861\t7\t\t3\t x\n",
      "4876\t2\t\t4\t x\n",
      "4879\t8\t\t6\t x\n",
      "4880\t0\t\t8\t x\n",
      "4886\t7\t\t1\t x\n",
      "4956\t8\t\t4\t x\n",
      "4966\t7\t\t1\t x\n",
      "4974\t4\t\t9\t x\n",
      "4990\t3\t\t1\t x\n",
      "5009\t9\t\t4\t x\n",
      "5065\t8\t\t1\t x\n",
      "5067\t3\t\t2\t x\n",
      "5068\t4\t\t1\t x\n",
      "5086\t2\t\t9\t x\n",
      "5140\t3\t\t5\t x\n",
      "5165\t0\t\t5\t x\n",
      "5268\t9\t\t8\t x\n",
      "5331\t1\t\t6\t x\n",
      "5401\t6\t\t5\t x\n",
      "5620\t7\t\t9\t x\n",
      "5634\t2\t\t8\t x\n",
      "5642\t1\t\t5\t x\n",
      "5654\t7\t\t9\t x\n",
      "5688\t7\t\t9\t x\n",
      "5714\t7\t\t9\t x\n",
      "5734\t3\t\t9\t x\n",
      "5735\t5\t\t9\t x\n",
      "5757\t9\t\t7\t x\n",
      "5769\t5\t\t8\t x\n",
      "5821\t5\t\t3\t x\n",
      "5887\t7\t\t5\t x\n",
      "5888\t4\t\t0\t x\n",
      "5890\t0\t\t3\t x\n",
      "5891\t5\t\t6\t x\n",
      "5904\t3\t\t8\t x\n",
      "5913\t5\t\t3\t x\n",
      "5922\t5\t\t2\t x\n",
      "5926\t4\t\t9\t x\n",
      "5936\t4\t\t9\t x\n",
      "5955\t3\t\t8\t x\n",
      "5973\t3\t\t8\t x\n",
      "6024\t8\t\t3\t x\n",
      "6035\t2\t\t6\t x\n",
      "6046\t3\t\t8\t x\n",
      "6065\t3\t\t8\t x\n",
      "6093\t2\t\t8\t x\n",
      "6347\t8\t\t6\t x\n",
      "6385\t5\t\t2\t x\n",
      "6418\t2\t\t4\t x\n",
      "6505\t9\t\t0\t x\n",
      "6555\t8\t\t9\t x\n",
      "6558\t6\t\t2\t x\n",
      "6568\t9\t\t4\t x\n",
      "6569\t3\t\t2\t x\n",
      "6572\t1\t\t2\t x\n",
      "6597\t0\t\t7\t x\n",
      "6598\t5\t\t6\t x\n",
      "6603\t8\t\t9\t x\n",
      "6632\t9\t\t7\t x\n",
      "6641\t8\t\t5\t x\n",
      "6642\t9\t\t5\t x\n",
      "6643\t0\t\t4\t x\n",
      "6651\t0\t\t4\t x\n",
      "6744\t2\t\t8\t x\n",
      "6746\t5\t\t4\t x\n",
      "6775\t5\t\t1\t x\n",
      "6785\t2\t\t4\t x\n",
      "6796\t2\t\t7\t x\n",
      "6847\t6\t\t4\t x\n",
      "6906\t2\t\t6\t x\n",
      "6919\t9\t\t7\t x\n",
      "6926\t6\t\t4\t x\n",
      "7035\t8\t\t5\t x\n",
      "7094\t8\t\t9\t x\n",
      "7130\t3\t\t9\t x\n",
      "7216\t0\t\t7\t x\n",
      "7241\t5\t\t8\t x\n",
      "7265\t8\t\t9\t x\n",
      "7432\t7\t\t2\t x\n",
      "7434\t4\t\t9\t x\n",
      "7451\t5\t\t8\t x\n",
      "7483\t2\t\t7\t x\n",
      "7579\t9\t\t4\t x\n",
      "7580\t9\t\t4\t x\n",
      "7595\t3\t\t8\t x\n",
      "7651\t9\t\t8\t x\n",
      "7697\t9\t\t4\t x\n",
      "7729\t2\t\t8\t x\n",
      "7797\t5\t\t6\t x\n",
      "7858\t3\t\t2\t x\n",
      "7886\t2\t\t4\t x\n",
      "7888\t5\t\t4\t x\n",
      "7928\t1\t\t8\t x\n",
      "7945\t2\t\t6\t x\n",
      "8061\t4\t\t9\t x\n",
      "8072\t5\t\t3\t x\n",
      "8094\t2\t\t8\t x\n",
      "8279\t8\t\t4\t x\n",
      "8297\t8\t\t5\t x\n",
      "8301\t8\t\t5\t x\n",
      "8320\t2\t\t7\t x\n",
      "8353\t2\t\t4\t x\n",
      "8375\t7\t\t9\t x\n",
      "8406\t4\t\t9\t x\n",
      "8408\t8\t\t6\t x\n",
      "8410\t8\t\t6\t x\n",
      "8416\t4\t\t5\t x\n",
      "8520\t4\t\t9\t x\n",
      "8522\t8\t\t2\t x\n",
      "8958\t8\t\t3\t x\n",
      "9009\t7\t\t2\t x\n",
      "9016\t0\t\t5\t x\n",
      "9045\t7\t\t2\t x\n",
      "9103\t4\t\t9\t x\n",
      "9170\t9\t\t4\t x\n",
      "9280\t8\t\t5\t x\n",
      "9316\t8\t\t3\t x\n",
      "9385\t8\t\t6\t x\n",
      "9422\t5\t\t3\t x\n",
      "9426\t6\t\t4\t x\n",
      "9427\t5\t\t3\t x\n",
      "9433\t8\t\t4\t x\n",
      "9482\t5\t\t3\t x\n",
      "9534\t7\t\t9\t x\n",
      "9587\t9\t\t4\t x\n",
      "9634\t0\t\t2\t x\n",
      "9642\t9\t\t7\t x\n",
      "9643\t1\t\t7\t x\n",
      "9679\t6\t\t5\t x\n",
      "9716\t2\t\t5\t x\n",
      "9729\t5\t\t6\t x\n",
      "9732\t8\t\t5\t x\n",
      "9749\t5\t\t6\t x\n",
      "9752\t2\t\t0\t x\n",
      "9770\t5\t\t0\t x\n",
      "9808\t9\t\t4\t x\n",
      "9811\t2\t\t8\t x\n",
      "9839\t2\t\t8\t x\n",
      "9856\t9\t\t5\t x\n",
      "9858\t6\t\t3\t x\n",
      "9867\t2\t\t8\t x\n",
      "9879\t0\t\t6\t x\n",
      "9883\t5\t\t1\t x\n",
      "9890\t9\t\t4\t x\n",
      "9892\t8\t\t6\t x\n",
      "9905\t3\t\t2\t x\n",
      "9925\t3\t\t9\t x\n",
      "9943\t3\t\t5\t x\n",
      "9944\t3\t\t8\t x\n",
      "9947\t4\t\t6\t x\n",
      "9970\t5\t\t3\t x\n",
      "9982\t5\t\t6\t x\n"
     ]
    }
   ],
   "source": [
    "_,_,_,A2=forward_prop(W1,b1,W2,b2,data)\n",
    "predictions=get_predictions(A2)\n",
    "correct=labels==predictions\n",
    "print(np.sum(~correct))\n",
    "print(\"ID\\tLabel\\tPrediction\\tError\")\n",
    "for i,(lab,pred,right) in enumerate(zip(*(labels,predictions,correct))):\n",
    "    if not right:\n",
    "        print(f\"{i}\\t{lab}\\t\\t{pred}\\t {'x' if not right else ''}\")\n"
   ]
  },
  {
   "cell_type": "code",
   "execution_count": 256,
   "metadata": {},
   "outputs": [
    {
     "name": "stdout",
     "output_type": "stream",
     "text": [
      "Label: 5\tPrediction: 8\n"
     ]
    },
    {
     "data": {
      "image/png": "[encoded data removed]",
      "text/plain": [
       "<Figure size 432x288 with 1 Axes>"
      ]
     },
     "metadata": {
      "needs_background": "light"
     },
     "output_type": "display_data"
    }
   ],
   "source": [
    "n=478\n",
    "plt.imshow(data[:,n].reshape(nrows,ncols), cmap='gray')\n",
    "print(f\"Label: {labels[n]}\\tPrediction: {predictions[n]}\")\n",
    "plt.show()"
   ]
  },
  {
   "cell_type": "markdown",
   "metadata": {},
   "source": [
    "# Pruebas varias de todo tipo"
   ]
  },
  {
   "cell_type": "code",
   "execution_count": 241,
   "metadata": {},
   "outputs": [
    {
     "name": "stdout",
     "output_type": "stream",
     "text": [
      "[0 1 2 3]\n",
      "[0 2 4 6]\n"
     ]
    }
   ],
   "source": [
    "a=np.arange(0,4)\n",
    "b=np.arange(4)*2\n",
    "print(a)\n",
    "print(b)"
   ]
  },
  {
   "cell_type": "code",
   "execution_count": 242,
   "metadata": {},
   "outputs": [
    {
     "data": {
      "text/plain": [
       "array([ 0,  2,  8, 18])"
      ]
     },
     "execution_count": 242,
     "metadata": {},
     "output_type": "execute_result"
    }
   ],
   "source": [
    "a*b.T"
   ]
  },
  {
   "cell_type": "code",
   "execution_count": 243,
   "metadata": {},
   "outputs": [
    {
     "data": {
      "text/plain": [
       "array([[ 0,  0,  0,  0],\n",
       "       [ 0,  2,  4,  6],\n",
       "       [ 0,  4,  8, 12],\n",
       "       [ 0,  6, 12, 18]])"
      ]
     },
     "execution_count": 243,
     "metadata": {},
     "output_type": "execute_result"
    }
   ],
   "source": [
    "np.atleast_2d(a).T.dot(np.atleast_2d(b))"
   ]
  },
  {
   "cell_type": "code",
   "execution_count": 244,
   "metadata": {},
   "outputs": [
    {
     "data": {
      "text/plain": [
       "array([[ 0,  0,  0,  0],\n",
       "       [ 0,  2,  4,  6],\n",
       "       [ 0,  4,  8, 12],\n",
       "       [ 0,  6, 12, 18]])"
      ]
     },
     "execution_count": 244,
     "metadata": {},
     "output_type": "execute_result"
    }
   ],
   "source": [
    "a*np.atleast_2d(b).T"
   ]
  },
  {
   "cell_type": "code",
   "execution_count": 245,
   "metadata": {},
   "outputs": [
    {
     "data": {
      "text/plain": [
       "(784, 10000)"
      ]
     },
     "execution_count": 245,
     "metadata": {},
     "output_type": "execute_result"
    }
   ],
   "source": [
    "data.shape"
   ]
  },
  {
   "cell_type": "code",
   "execution_count": 246,
   "metadata": {},
   "outputs": [
    {
     "data": {
      "text/plain": [
       "(4, 2)"
      ]
     },
     "execution_count": 246,
     "metadata": {},
     "output_type": "execute_result"
    }
   ],
   "source": [
    "x=data[:4,0:2]\n",
    "x=np.arange(8).reshape((4,2))\n",
    "x.shape"
   ]
  },
  {
   "cell_type": "code",
   "execution_count": 247,
   "metadata": {},
   "outputs": [
    {
     "data": {
      "text/plain": [
       "array([[0, 1],\n",
       "       [2, 3],\n",
       "       [4, 5],\n",
       "       [6, 7]])"
      ]
     },
     "execution_count": 247,
     "metadata": {},
     "output_type": "execute_result"
    }
   ],
   "source": [
    "x"
   ]
  },
  {
   "cell_type": "code",
   "execution_count": 248,
   "metadata": {},
   "outputs": [
    {
     "data": {
      "text/plain": [
       "(10, 2)"
      ]
     },
     "execution_count": 248,
     "metadata": {},
     "output_type": "execute_result"
    }
   ],
   "source": [
    "dz1=one_hot_y[:,0:2]\n",
    "dz1.shape"
   ]
  },
  {
   "cell_type": "code",
   "execution_count": 249,
   "metadata": {},
   "outputs": [
    {
     "data": {
      "text/plain": [
       "array([[0., 0.],\n",
       "       [0., 0.],\n",
       "       [0., 1.],\n",
       "       [0., 0.],\n",
       "       [0., 0.],\n",
       "       [0., 0.],\n",
       "       [0., 0.],\n",
       "       [1., 0.],\n",
       "       [0., 0.],\n",
       "       [0., 0.]])"
      ]
     },
     "execution_count": 249,
     "metadata": {},
     "output_type": "execute_result"
    }
   ],
   "source": [
    "dz1"
   ]
  },
  {
   "cell_type": "code",
   "execution_count": 250,
   "metadata": {},
   "outputs": [
    {
     "data": {
      "text/plain": [
       "(10, 4)"
      ]
     },
     "execution_count": 250,
     "metadata": {},
     "output_type": "execute_result"
    }
   ],
   "source": [
    "dwq=dz1.dot(x.T)\n",
    "dwq.shape"
   ]
  },
  {
   "cell_type": "code",
   "execution_count": 251,
   "metadata": {},
   "outputs": [
    {
     "data": {
      "text/plain": [
       "array([[0., 0., 0., 0.],\n",
       "       [0., 0., 0., 0.],\n",
       "       [1., 3., 5., 7.],\n",
       "       [0., 0., 0., 0.],\n",
       "       [0., 0., 0., 0.],\n",
       "       [0., 0., 0., 0.],\n",
       "       [0., 0., 0., 0.],\n",
       "       [0., 2., 4., 6.],\n",
       "       [0., 0., 0., 0.],\n",
       "       [0., 0., 0., 0.]])"
      ]
     },
     "execution_count": 251,
     "metadata": {},
     "output_type": "execute_result"
    }
   ],
   "source": [
    "dwq"
   ]
  },
  {
   "cell_type": "code",
   "execution_count": 252,
   "metadata": {},
   "outputs": [
    {
     "data": {
      "text/plain": [
       "array([[1, 1, 1],\n",
       "       [1, 1, 0],\n",
       "       [0, 0, 0]])"
      ]
     },
     "execution_count": 252,
     "metadata": {},
     "output_type": "execute_result"
    }
   ],
   "source": [
    "m=np.arange(9).reshape((3,3))\n",
    "1*(m<5)"
   ]
  },
  {
   "cell_type": "code",
   "execution_count": null,
   "metadata": {},
   "outputs": [],
   "source": []
  }
 ],
 "metadata": {
  "kernelspec": {
   "display_name": "Python 3.9.12 ('calculoastronomico')",
   "language": "python",
   "name": "python3"
  },
  "language_info": {
   "codemirror_mode": {
    "name": "ipython",
    "version": 3
   },
   "file_extension": ".py",
   "mimetype": "text/x-python",
   "name": "python",
   "nbconvert_exporter": "python",
   "pygments_lexer": "ipython3",
   "version": "3.9.12"
  },
  "orig_nbformat": 4,
  "vscode": {
   "interpreter": {
    "hash": "45191bebbaaca2a45e1ef8d4f69ed6ce1b861e31669d6b1375d42c01e883be29"
   }
  }
 },
 "nbformat": 4,
 "nbformat_minor": 2
}
