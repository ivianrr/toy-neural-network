{
 "cells": [
  {
   "cell_type": "code",
   "execution_count": null,
   "metadata": {},
   "outputs": [],
   "source": [
    "import numpy as np\n",
    "from PIL import Image\n",
    "import cv2 as cv\n",
    "import util.dataAugmentation as da\n",
    "from util import mnistdataset as mnist\n",
    "from matplotlib import pyplot as plt\n",
    "import random\n"
   ]
  },
  {
   "cell_type": "code",
   "execution_count": null,
   "metadata": {},
   "outputs": [],
   "source": [
    "labels,data,nrows,ncols=mnist.load_data()\n",
    "# we will not reshape it as it is easier to iterate over it this way\n",
    "# data=data.T"
   ]
  },
  {
   "cell_type": "code",
   "execution_count": null,
   "metadata": {},
   "outputs": [],
   "source": [
    "labels.shape, data.shape"
   ]
  },
  {
   "cell_type": "code",
   "execution_count": null,
   "metadata": {},
   "outputs": [],
   "source": [
    "data.dtype"
   ]
  },
  {
   "cell_type": "code",
   "execution_count": null,
   "metadata": {},
   "outputs": [],
   "source": [
    "labels.dtype"
   ]
  },
  {
   "cell_type": "code",
   "execution_count": null,
   "metadata": {},
   "outputs": [],
   "source": [
    "# def translate(img,xoffset,yoffset):  \n",
    "#     mat=np.asarray([[1,0,xoffset],[0,1,yoffset]])\n",
    "#     return cv.warpAffine(img,mat,img.shape)#getRotationMatrix2D(rotpoint,angle,1.0)"
   ]
  },
  {
   "cell_type": "code",
   "execution_count": null,
   "metadata": {},
   "outputs": [],
   "source": [
    "# def scale(img,factor):  \n",
    "#     xoffset=(img.shape[0]-img.shape[0]*factor)*0.5\n",
    "#     mat=np.asarray([[factor,0,xoffset],[0,factor,xoffset]])\n",
    "#     return cv.warpAffine(img,mat,img.shape)"
   ]
  },
  {
   "cell_type": "code",
   "execution_count": null,
   "metadata": {},
   "outputs": [],
   "source": [
    "# def ranrange(a,b):\n",
    "#     return a+(b-a)*random.random()"
   ]
  },
  {
   "cell_type": "code",
   "execution_count": null,
   "metadata": {},
   "outputs": [],
   "source": [
    "# def augment(img):\n",
    "#     if random.random()<0.5:\n",
    "#         angle=da.ranrange(-60,60)\n",
    "#         img=da.rotate(img,angle)\n",
    "#     if random.random()<0.5:\n",
    "#         factor=da.ranrange(0.5,1.2)\n",
    "#         img=da.scale(img,factor)\n",
    "#     if random.random()<0.5:\n",
    "#         xoff,yoff=[2*(random.random()-0.5)*5 for i in range(2)]\n",
    "#         img=da.translate(img,xoff,yoff)\n",
    "#     if random.random()<0.5:\n",
    "#         img+=da.ranrange(0,0.1)*np.random.rand(*img.shape)\n",
    "#     return img"
   ]
  },
  {
   "cell_type": "code",
   "execution_count": null,
   "metadata": {},
   "outputs": [],
   "source": [
    "augment_factor=5\n",
    "n_samples=labels.size\n",
    "data_size=data.shape[1]\n",
    "\n",
    "newlabels=np.zeros((n_samples*augment_factor),dtype=np.uint8)\n",
    "newdata=np.zeros((n_samples*augment_factor,data_size),dtype=np.float16)\n",
    "i=0\n",
    "for label, element in zip(labels, data):\n",
    "    newlabels[i]=label\n",
    "    newdata[i,:]=element\n",
    "    element=element.reshape(nrows,ncols)\n",
    "    # plt.imshow(element,cmap=\"gray\")\n",
    "    # plt.show()\n",
    "    i+=1\n",
    "    for _ in range(augment_factor-1):\n",
    "        new_image=da.augment(element.copy())\n",
    "        # plt.imshow(new_image,cmap=\"gray\")\n",
    "        # plt.show()\n",
    "        newlabels[i]=label\n",
    "        newdata[i,:]=new_image.flatten()\n",
    "        i+=1\n"
   ]
  },
  {
   "cell_type": "code",
   "execution_count": null,
   "metadata": {},
   "outputs": [],
   "source": [
    "np.save(\"samples/augmented/labels.npy\",newlabels)\n",
    "np.save(\"samples/augmented/data.npy\",newdata)"
   ]
  },
  {
   "cell_type": "code",
   "execution_count": null,
   "metadata": {},
   "outputs": [],
   "source": [
    "newdata.shape"
   ]
  },
  {
   "cell_type": "code",
   "execution_count": null,
   "metadata": {},
   "outputs": [],
   "source": [
    "newdata.dtype"
   ]
  },
  {
   "cell_type": "code",
   "execution_count": null,
   "metadata": {},
   "outputs": [],
   "source": [
    "# newlabels=[]\n",
    "# newdata=[]\n",
    "# i=0\n",
    "# for label, element in zip(labels, data):\n",
    "#     newlabels.append(label)\n",
    "#     newdata.append(element)\n",
    "#     element=element.reshape(nrows,ncols)\n",
    "#     # plt.imshow(element,cmap=\"gray\")\n",
    "#     # plt.show()\n",
    "#     i+=1\n",
    "#     for j in range(5):\n",
    "#         new_image=da.augment(element.copy())\n",
    "#         # plt.imshow(new_image,cmap=\"gray\")\n",
    "#         # plt.show()\n",
    "#         newlabels.append(label)\n",
    "#         newdata.append(new_image.flatten())\n",
    "#         i+=1\n"
   ]
  },
  {
   "cell_type": "code",
   "execution_count": null,
   "metadata": {},
   "outputs": [],
   "source": [
    "newlabels.shape,newdata.shape"
   ]
  },
  {
   "cell_type": "code",
   "execution_count": null,
   "metadata": {},
   "outputs": [],
   "source": [
    "plt.imshow(newdata[12112,:].reshape(nrows,ncols),cmap=\"gray\")\n",
    "plt.show()"
   ]
  },
  {
   "cell_type": "code",
   "execution_count": null,
   "metadata": {},
   "outputs": [],
   "source": []
  }
 ],
 "metadata": {
  "kernelspec": {
   "display_name": "Python 3.10.4 ('interf')",
   "language": "python",
   "name": "python3"
  },
  "language_info": {
   "codemirror_mode": {
    "name": "ipython",
    "version": 3
   },
   "file_extension": ".py",
   "mimetype": "text/x-python",
   "name": "python",
   "nbconvert_exporter": "python",
   "pygments_lexer": "ipython3",
   "version": "3.10.4"
  },
  "orig_nbformat": 4,
  "vscode": {
   "interpreter": {
    "hash": "be618d5fbf26297afb6afd577798636222a2fa2fb1b8a813e5d014f014dc67ad"
   }
  }
 },
 "nbformat": 4,
 "nbformat_minor": 2
}
